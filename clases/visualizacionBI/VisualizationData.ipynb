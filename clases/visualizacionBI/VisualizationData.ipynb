{
 "cells": [
  {
   "cell_type": "markdown",
   "id": "a25aced8",
   "metadata": {},
   "source": [
    "## Buenas practicas . \n",
    "\n",
    "* Definir una audiencia y motivo: \n",
    "\n",
    "Esto sirve principalmente para adecuar las palabras que ocupare al contexto de los receptores y escojer mejor las herramientas que seleccionare de acuerdo a su contexto. \n",
    "\n",
    "* Utiliza la percepción visual. \n",
    "\n",
    "Selecciona elementos que ayuden a disminuir la carga cognitiva al momento de hacer la entrega de las herramientas visuales.\n",
    "\n",
    "* Estandarizar. \n",
    "\n",
    "Ocupar siempre la misma escala en un grafico, no hacer cortes en los ejes, aliniar los datos de ser necesario. Hacer todo lo necesario para no confundir a nuestro receptor. El primer grafico es un ejemplo de lo que no hay que hacer.\n",
    "<img src=\"img/diagrama1.png\" height=\"400px\" width=\"200px\" />\n",
    "\n",
    "* Simplificar pero no recortar. \n",
    "\n",
    "Es mucho más optimo la visualización de la imagen derecha.\n",
    "\n",
    "<img src=\"img/diagrama2.png\" height=\"400px\" width=\"200px\" />\n",
    "\n",
    "* Disminuir el sesgo, no al cherry-picking \n",
    "\n",
    "No elegir intencionalmente los datos que validen tu hipotesis \n",
    "\n",
    "* Aplicar los principios de Gestalt\n",
    "\n",
    "<img src=\"img/gestalt_principles.jpg\" height=\"1000px\" width=\"600px\" />\n",
    "<img src=\"img/principios_gestalt.png\" height=\"1000px\" width=\"600px\" />\n",
    "\n",
    "* **Semejanza:**  Para percibir objetos parecidos se deben colocar con una misma forma,color,tamaño,textura,movimiento .\n",
    "* **Cierre:**     Si colocamos elementos desconectados nuestro cerebro en automático los asocia con formas que ya conocemos.\n",
    "* **Continuidad:** Cuando tenemos elementos orientados a una misma dirección nuestro cerebro interpreta la información como conectada en lugar de desconectada.       \n",
    "* **Proximidad:**   Si vemos objetos que están cercanos los percibimos como dentro de un grupo.\n",
    "* **Figura fondo:**   Nos muestra que nuestro cerebro encuentran un enfoco visual separando la figura del fondo.\n",
    "* **Simetría:**     Las figuras simétricas o geométricas simples y regulares se perciben como un conjunto."
   ]
  },
  {
   "cell_type": "markdown",
   "id": "c901bb67",
   "metadata": {},
   "source": [
    "## Etica \n",
    "\n",
    "Se debe tener extremo cuidado en como se utilizan los datos puesto que estos pueden ser ocupado con fines macabros.\n",
    "https://elpais.com/elpais/2015/08/11/icon/1439304143_858615.html"
   ]
  },
  {
   "cell_type": "markdown",
   "id": "a10080bd",
   "metadata": {},
   "source": [
    "## Grafica de barras "
   ]
  },
  {
   "cell_type": "code",
   "execution_count": null,
   "id": "6cd846ac",
   "metadata": {},
   "outputs": [],
   "source": []
  }
 ],
 "metadata": {
  "kernelspec": {
   "display_name": "book_new",
   "language": "python",
   "name": "book_new"
  },
  "language_info": {
   "codemirror_mode": {
    "name": "ipython",
    "version": 3
   },
   "file_extension": ".py",
   "mimetype": "text/x-python",
   "name": "python",
   "nbconvert_exporter": "python",
   "pygments_lexer": "ipython3",
   "version": "3.7.10"
  }
 },
 "nbformat": 4,
 "nbformat_minor": 5
}
