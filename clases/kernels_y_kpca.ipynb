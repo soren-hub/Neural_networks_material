{
 "cells": [
  {
   "cell_type": "code",
   "execution_count": 1,
   "id": "b7f21efe",
   "metadata": {},
   "outputs": [],
   "source": [
    "import pandas as pd\n",
    "import sklearn \n",
    "import matplotlib.pyplot as plt\n",
    "\n",
    "from sklearn.decomposition import KernelPCA\n",
    "\n",
    "from sklearn.linear_model import LogisticRegression\n",
    "\n",
    "from sklearn.preprocessing import StandardScaler\n",
    "from sklearn.model_selection import train_test_split\n",
    "\n",
    "#kernels_y_kpca\n"
   ]
  },
  {
   "cell_type": "code",
   "execution_count": 5,
   "id": "bad94edc",
   "metadata": {},
   "outputs": [],
   "source": [
    "dt_heart = pd.read_csv('heart.csv')\n",
    "#print(dt_heart.head(5))"
   ]
  },
  {
   "cell_type": "code",
   "execution_count": 6,
   "id": "a52cb703",
   "metadata": {},
   "outputs": [],
   "source": [
    "dt_features  = dt_heart.drop(['target'], axis=1)\n",
    "dt_target = dt_heart['target']"
   ]
  },
  {
   "cell_type": "code",
   "execution_count": 7,
   "id": "1301a23d",
   "metadata": {},
   "outputs": [],
   "source": [
    "dt_features = StandardScaler().fit_transform(dt_features)\n",
    "X_train, X_test, y_train, y_test = train_test_split(dt_features, dt_target, \n",
    "                                                    test_size=0.3, random_state=42)"
   ]
  },
  {
   "cell_type": "code",
   "execution_count": 8,
   "id": "eda30786",
   "metadata": {},
   "outputs": [
    {
     "data": {
      "text/plain": [
       "KernelPCA(alpha=1.0, coef0=1, copy_X=True, degree=3, eigen_solver='auto',\n",
       "          fit_inverse_transform=False, gamma=None, kernel='poly',\n",
       "          kernel_params=None, max_iter=None, n_components=4, n_jobs=None,\n",
       "          random_state=None, remove_zero_eig=False, tol=0)"
      ]
     },
     "execution_count": 8,
     "metadata": {},
     "output_type": "execute_result"
    }
   ],
   "source": [
    "kpca = KernelPCA(n_components=4, kernel='poly' )\n",
    "kpca.fit(X_train)"
   ]
  },
  {
   "cell_type": "code",
   "execution_count": 9,
   "id": "54c8caef",
   "metadata": {},
   "outputs": [
    {
     "name": "stdout",
     "output_type": "stream",
     "text": [
      "SCORE KPCA:  0.7987012987012987\n"
     ]
    }
   ],
   "source": [
    "dt_train = kpca.transform(X_train)\n",
    "dt_test = kpca.transform(X_test)\n",
    "logistic = LogisticRegression(solver='lbfgs')\n",
    "logistic.fit(dt_train, y_train)\n",
    "print(\"SCORE KPCA: \", logistic.score(dt_test, y_test))"
   ]
  },
  {
   "cell_type": "code",
   "execution_count": null,
   "id": "b098edc6",
   "metadata": {},
   "outputs": [],
   "source": []
  }
 ],
 "metadata": {
  "kernelspec": {
   "display_name": "book",
   "language": "python",
   "name": "book"
  },
  "language_info": {
   "codemirror_mode": {
    "name": "ipython",
    "version": 3
   },
   "file_extension": ".py",
   "mimetype": "text/x-python",
   "name": "python",
   "nbconvert_exporter": "python",
   "pygments_lexer": "ipython3",
   "version": "3.7.10"
  }
 },
 "nbformat": 4,
 "nbformat_minor": 5
}
