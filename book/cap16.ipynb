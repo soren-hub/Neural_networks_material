{
 "cells": [
  {
   "cell_type": "markdown",
   "id": "21895540",
   "metadata": {},
   "source": [
    "Dropout es un metodo que nos permite apagar un poircentaje de neuronas de una red, esto produce que las neuronas no se memoricen los datos de entrenamiento disminuyendo la probabilidad de overfitting.\n"
   ]
  },
  {
   "cell_type": "code",
   "execution_count": 1,
   "id": "03c99b2c",
   "metadata": {},
   "outputs": [
    {
     "name": "stderr",
     "output_type": "stream",
     "text": [
      "Using TensorFlow backend.\n"
     ]
    }
   ],
   "source": [
    "# Baseline Model on the Sonar Dataset\n",
    "import numpy\n",
    "import pandas\n",
    "from keras.models import Sequential\n",
    "from keras.layers import Dense\n",
    "from keras.layers import Dropout\n",
    "from keras.wrappers.scikit_learn import KerasClassifier\n",
    "from keras.constraints import maxnorm\n",
    "from keras.optimizers import SGD\n",
    "from sklearn.model_selection import cross_val_score\n",
    "from sklearn.preprocessing import LabelEncoder\n",
    "from sklearn.model_selection import StratifiedKFold\n",
    "from sklearn.preprocessing import StandardScaler\n",
    "from sklearn.pipeline import Pipeline\n",
    "# fix random seed for reproducibility\n",
    "seed = 7\n",
    "numpy.random.seed(seed)\n"
   ]
  },
  {
   "cell_type": "code",
   "execution_count": 2,
   "id": "642fb38c",
   "metadata": {
    "scrolled": true
   },
   "outputs": [
    {
     "name": "stdout",
     "output_type": "stream",
     "text": [
      "[[0.02 0.0371 0.0428 ... 0.009 0.0032 'Rock']\n",
      " [0.0453 0.0523 0.0843 ... 0.0052 0.0044 'Rock']\n",
      " [0.0262 0.0582 0.1099 ... 0.0095 0.0078 'Rock']\n",
      " ...\n",
      " [0.0522 0.0437 0.018 ... 0.0077 0.0031 'Mine']\n",
      " [0.0303 0.0353 0.049 ... 0.0036 0.0048 'Mine']\n",
      " [0.026 0.0363 0.0136 ... 0.0061 0.0115 'Mine']]\n"
     ]
    }
   ],
   "source": [
    "# load dataset\n",
    "dataframe = pandas.read_csv(\"C:/Users/joaqu/Desktop/proyecto/ensayos/datos/sonar.csv\", header=0)\n",
    "dataset = dataframe.values\n",
    "print(dataset)"
   ]
  },
  {
   "cell_type": "code",
   "execution_count": 3,
   "id": "dabbb1cd",
   "metadata": {},
   "outputs": [],
   "source": [
    "# split into input (X) and output (Y) variables\n",
    "X = dataset[:,0:60].astype(float)\n",
    "Y = dataset[:,60]\n",
    "# encode class values as integers\n",
    "encoder = LabelEncoder()\n",
    "encoder.fit(Y)\n",
    "encoded_Y = encoder.transform(Y)"
   ]
  },
  {
   "cell_type": "code",
   "execution_count": 4,
   "id": "6bbb10a7",
   "metadata": {},
   "outputs": [],
   "source": [
    "# baseline\n",
    "def create_baseline():\n",
    "    # create model\n",
    "    model = Sequential()\n",
    "    model.add(Dense(60, input_dim=60, kernel_initializer= \"normal\" , activation= \"relu\" ))\n",
    "    model.add(Dense(30, kernel_initializer= \"normal\" , activation= \"relu\" ))\n",
    "    model.add(Dense(1, kernel_initializer= \"normal\" , activation= \"sigmoid\" ))\n",
    "    # Compile model\n",
    "    # nesterov=special momentum \n",
    "    #decay = decay lr \n",
    "    sgd = SGD(lr=0.01, momentum=0.8, decay=0.0, nesterov=False)\n",
    "    model.compile(loss= \"binary_crossentropy\" , optimizer=sgd, metrics=[ \"accuracy\" ])\n",
    "    return model\n",
    "\n",
    "def dropout_model():\n",
    "    # esta configuracion de capas me da mejor resultado que la del create_baseline\n",
    "    model = Sequential()\n",
    "    model.add(Dropout(0.2, input_shape=(60,)))\n",
    "    model.add(Dense(60, kernel_initializer=\"normal\" ,activation=\"relu\"))#,kernel_constraint=maxnorm(3.)))\n",
    "    model.add(Dense(30, kernel_initializer= \"normal\" , activation= \"relu\",kernel_constraint=maxnorm(3.)))\n",
    "    model.add(Dense(1, kernel_initializer= \"normal\" , activation= \"sigmoid\" ))\n",
    "    # Compile model\n",
    "    # nesterov=special momentum \n",
    "    #decay = decay lr \n",
    "    sgd = SGD(lr=0.01, momentum=0.8, decay=0.0, nesterov=False)\n",
    "    model.compile(loss= \"binary_crossentropy\" , optimizer=sgd, metrics=[ \"accuracy\" ])\n",
    "    return model\n",
    "\n",
    "def dropout_model2():\n",
    "\n",
    "    model = Sequential()\n",
    "    model.add(Dense(60, input_dim=60, kernel_initializer=\"normal\" ,activation=\"relu\",kernel_constraint=maxnorm(3)))\n",
    "    model.add(Dropout(0.2))\n",
    "    model.add(Dense(30, kernel_initializer=\"normal\", activation=\"relu\", kernel_constraint=maxnorm(3)))\n",
    "    model.add(Dropout(0.2))\n",
    "    model.add(Dense(1, kernel_initializer=\"normal\", activation=\"sigmoid\"))\n",
    "    # Compile model\n",
    "    sgd = SGD(lr=0.1, momentum=0.9, decay=0.0, nesterov=False)\n",
    "    model.compile(loss=\"binary_crossentropy\", optimizer=sgd, metrics=[\"accuracy\"])\n",
    "    return model\n"
   ]
  },
  {
   "cell_type": "code",
   "execution_count": 5,
   "id": "d582e3a8",
   "metadata": {},
   "outputs": [],
   "source": [
    "numpy.random.seed(seed)\n",
    "estimators = []\n",
    "estimators.append(( \"standardize\" , StandardScaler()))\n",
    "estimators.append(( \"mlp\" , KerasClassifier(build_fn=create_baseline, epochs=300,\n",
    "                                                                    batch_size=16, verbose=0)))\n",
    "\n",
    "estimators2 = []\n",
    "estimators2.append(( \"standardize\" , StandardScaler()))\n",
    "estimators2.append(( \"mlp\" , KerasClassifier(build_fn=dropout_model, epochs=300,\n",
    "                                                                    batch_size=16, verbose=0)))\n",
    "\n",
    "estimators3 = []\n",
    "estimators3.append(( \"standardize\" , StandardScaler()))\n",
    "estimators3.append(( \"mlp\" , KerasClassifier(build_fn=dropout_model2, epochs=300,\n",
    "                                                                    batch_size=16, verbose=0)))\n",
    "\n"
   ]
  },
  {
   "cell_type": "code",
   "execution_count": 6,
   "id": "648351f9",
   "metadata": {},
   "outputs": [],
   "source": [
    "pipeline = Pipeline(estimators)\n",
    "pipeline2 = Pipeline(estimators2)\n",
    "pipeline3 = Pipeline(estimators3)"
   ]
  },
  {
   "cell_type": "code",
   "execution_count": 7,
   "id": "3d9ca3a1",
   "metadata": {},
   "outputs": [],
   "source": [
    "kfold = StratifiedKFold(n_splits=10, shuffle=True, random_state=seed)"
   ]
  },
  {
   "cell_type": "code",
   "execution_count": 8,
   "id": "4d5d0c7b",
   "metadata": {},
   "outputs": [
    {
     "name": "stdout",
     "output_type": "stream",
     "text": [
      "Baseline: 85.54% (5.40%)\n"
     ]
    }
   ],
   "source": [
    "results = cross_val_score(pipeline2, X, encoded_Y, cv=kfold)\n",
    "print(\"Baseline: %.2f%% (%.2f%%)\" % (results.mean()*100, results.std()*100))"
   ]
  },
  {
   "cell_type": "code",
   "execution_count": 9,
   "id": "0794907b",
   "metadata": {},
   "outputs": [
    {
     "name": "stdout",
     "output_type": "stream",
     "text": [
      "Baseline: 83.57% (5.57%)\n"
     ]
    }
   ],
   "source": [
    "results = cross_val_score(pipeline, X, encoded_Y, cv=kfold)\n",
    "print(\"Baseline: %.2f%% (%.2f%%)\" % (results.mean()*100, results.std()*100))"
   ]
  },
  {
   "cell_type": "markdown",
   "id": "0de375db",
   "metadata": {},
   "source": [
    "Por algun extraño motivo el ejemplo de dropout no mejora el rendimiento de la red. \n",
    "En otros ejemplos del libro sucede lo mismo, debo anotar en cuales pasa y preguntar "
   ]
  },
  {
   "cell_type": "code",
   "execution_count": null,
   "id": "6219c8cf",
   "metadata": {},
   "outputs": [],
   "source": [
    "results = cross_val_score(pipeline3, X, encoded_Y, cv=kfold)\n",
    "print(\"Baseline: %.2f%% (%.2f%%)\" % (results.mean()*100, results.std()*100))"
   ]
  },
  {
   "cell_type": "code",
   "execution_count": null,
   "id": "74397b17",
   "metadata": {},
   "outputs": [],
   "source": []
  }
 ],
 "metadata": {
  "kernelspec": {
   "display_name": "book_new",
   "language": "python",
   "name": "book_new"
  },
  "language_info": {
   "codemirror_mode": {
    "name": "ipython",
    "version": 3
   },
   "file_extension": ".py",
   "mimetype": "text/x-python",
   "name": "python",
   "nbconvert_exporter": "python",
   "pygments_lexer": "ipython3",
   "version": "3.7.10"
  }
 },
 "nbformat": 4,
 "nbformat_minor": 5
}
