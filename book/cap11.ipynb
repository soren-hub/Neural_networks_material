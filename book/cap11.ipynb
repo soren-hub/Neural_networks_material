{
 "cells": [
  {
   "cell_type": "code",
   "execution_count": 1,
   "id": "69f1c534",
   "metadata": {},
   "outputs": [
    {
     "name": "stderr",
     "output_type": "stream",
     "text": [
      "Using TensorFlow backend.\n"
     ]
    }
   ],
   "source": [
    "import numpy\n",
    "import pandas\n",
    "from keras.models import Sequential\n",
    "from keras.layers import Dense\n",
    "from keras.wrappers.scikit_learn import KerasClassifier\n",
    "from sklearn.model_selection import cross_val_score\n",
    "from sklearn.preprocessing import LabelEncoder\n",
    "from sklearn.model_selection import StratifiedKFold\n",
    "from sklearn.preprocessing import StandardScaler\n",
    "from sklearn.pipeline import Pipeline "
   ]
  },
  {
   "cell_type": "code",
   "execution_count": 2,
   "id": "d2d8aa5d",
   "metadata": {},
   "outputs": [],
   "source": [
    "# fix random seed for reproducibility\n",
    "seed = 7\n",
    "numpy.random.seed(seed)"
   ]
  },
  {
   "cell_type": "code",
   "execution_count": 3,
   "id": "f5c855a2",
   "metadata": {},
   "outputs": [],
   "source": [
    "# load dataset\n",
    "#I don´t understand why header don´t works \n",
    "#header works with argument 0 \n",
    "dataframe = pandas.read_csv(\"C:/Users/joaqu/Desktop/proyecto/ensayos/datos/sonar.csv\", header=0) \n",
    "dataset = dataframe.values\n",
    "# split into input (X) and output (Y) variables\n",
    "X = dataset[:,0:60].astype(float)\n",
    "Y = dataset[:,60]"
   ]
  },
  {
   "cell_type": "code",
   "execution_count": 4,
   "id": "39af1709",
   "metadata": {},
   "outputs": [],
   "source": [
    "#print(X,Y)"
   ]
  },
  {
   "cell_type": "code",
   "execution_count": 5,
   "id": "ef0c5fef",
   "metadata": {},
   "outputs": [],
   "source": [
    "# encode class values as integers\n",
    "encoder = LabelEncoder()\n",
    "encoder.fit(Y)\n",
    "encoded_Y = encoder.transform(Y)"
   ]
  },
  {
   "cell_type": "code",
   "execution_count": 6,
   "id": "b00b5248",
   "metadata": {},
   "outputs": [],
   "source": [
    "def create_baseline():\n",
    "    # create model\n",
    "    model = Sequential()\n",
    "    model.add(Dense(60, input_dim=60, kernel_initializer= \"normal\" , activation= \"relu\" ))\n",
    "    model.add(Dense(1, kernel_initializer= \"normal\" , activation= \"sigmoid\" ))\n",
    "    # Compile model\n",
    "    model.compile(loss= \"binary_crossentropy\" , optimizer= \"adam\" , metrics=[ \"accuracy\" ])\n",
    "    return model\n",
    "\n",
    "def create_baseline2():\n",
    "    # create model\n",
    "    model = Sequential()\n",
    "    model.add(Dense(30, input_dim=60, kernel_initializer= \"normal\" , activation= \"relu\" ))\n",
    "    model.add(Dense(1, kernel_initializer= \"normal\" , activation= \"sigmoid\" ))\n",
    "    # Compile model\n",
    "    model.compile(loss= \"binary_crossentropy\" , optimizer= \"adam\" , metrics=[ \"accuracy\" ])\n",
    "    return model\n",
    "\n",
    "def create_baseline3():\n",
    "    # create model\n",
    "    model = Sequential()\n",
    "    model.add(Dense(60, input_dim=60, kernel_initializer= \"normal\" , activation= \"relu\" ))\n",
    "    model.add(Dense(30, kernel_initializer= \"normal\" , activation= \"relu\" ))\n",
    "    model.add(Dense(1, kernel_initializer= \"normal\" , activation= \"sigmoid\" ))\n",
    "    # Compile model\n",
    "    model.compile(loss= \"binary_crossentropy\" , optimizer= \"adam\" , metrics=[ \"accuracy\" ])\n",
    "    return model"
   ]
  },
  {
   "cell_type": "code",
   "execution_count": 7,
   "id": "9c777f86",
   "metadata": {},
   "outputs": [],
   "source": [
    "# evaluate model with standardized dataset\n",
    "#estimator = KerasClassifier(build_fn=create_baseline, epochs=100, batch_size=5, verbose=0)\n",
    "#kfold = StratifiedKFold(n_splits=10, shuffle=True, random_state=seed)\n",
    "#results = cross_val_score(estimator, X, encoded_Y, cv=kfold)\n",
    "#print(\"Baseline: %.2f%% (%.2f%%)\" % (results.mean()*100, results.std()*100))"
   ]
  },
  {
   "cell_type": "markdown",
   "id": "2d32e438",
   "metadata": {},
   "source": [
    "el resultado varia al 78%, no se si sea conveniente hacer un for para sacar un estimativo de la vianza de los resultados y los errores "
   ]
  },
  {
   "cell_type": "markdown",
   "id": "6cc3059d",
   "metadata": {},
   "source": [
    "podemos arreglar el resultado anterior standarizando la data \n"
   ]
  },
  {
   "cell_type": "code",
   "execution_count": 8,
   "id": "fc8c505d",
   "metadata": {},
   "outputs": [],
   "source": [
    "estimators = []\n",
    "estimators.append(( \"standardize\" , StandardScaler()))\n",
    "estimators.append(( \"mlp\" , KerasClassifier(build_fn=create_baseline, \n",
    "                                            epochs=100,batch_size=5, verbose=0)))\n",
    "\n",
    "estimators2 = []\n",
    "estimators2.append(( \"standardize\" , StandardScaler()))\n",
    "estimators2.append(( \"mlp\" , KerasClassifier(build_fn=create_baseline2, \n",
    "                                            epochs=100,batch_size=5, verbose=0)))\n",
    "estimators3 = []\n",
    "estimators3.append(( \"standardize\" , StandardScaler()))\n",
    "estimators3.append(( \"mlp\" , KerasClassifier(build_fn=create_baseline3, \n",
    "                                            epochs=100,batch_size=5, verbose=0)))\n",
    " "
   ]
  },
  {
   "cell_type": "code",
   "execution_count": 9,
   "id": "c24e4c54",
   "metadata": {},
   "outputs": [
    {
     "data": {
      "text/plain": [
       "[('standardize', StandardScaler(copy=True, with_mean=True, with_std=True)),\n",
       " ('mlp', <keras.wrappers.scikit_learn.KerasClassifier at 0x1ef86cf7cc8>)]"
      ]
     },
     "execution_count": 9,
     "metadata": {},
     "output_type": "execute_result"
    }
   ],
   "source": [
    "estimators"
   ]
  },
  {
   "cell_type": "code",
   "execution_count": 10,
   "id": "86875932",
   "metadata": {},
   "outputs": [],
   "source": [
    "pipeline = Pipeline(estimators)\n",
    "pipeline2 = Pipeline(estimators2)\n",
    "pipeline3 = Pipeline(estimators3)"
   ]
  },
  {
   "cell_type": "code",
   "execution_count": 11,
   "id": "5fea39c0",
   "metadata": {},
   "outputs": [],
   "source": [
    "#pipeline"
   ]
  },
  {
   "cell_type": "code",
   "execution_count": 12,
   "id": "45827557",
   "metadata": {},
   "outputs": [],
   "source": [
    "kfold = StratifiedKFold(n_splits=10, shuffle=True, random_state=seed)"
   ]
  },
  {
   "cell_type": "code",
   "execution_count": 13,
   "id": "d5bbd5f5",
   "metadata": {},
   "outputs": [
    {
     "name": "stdout",
     "output_type": "stream",
     "text": [
      "Standardized: 84.11% (3.15%)\n"
     ]
    }
   ],
   "source": [
    "results = cross_val_score(pipeline, X, encoded_Y, cv=kfold)\n",
    "print(\"Standardized: %.2f%% (%.2f%%)\" % (results.mean()*100, results.std()*100))"
   ]
  },
  {
   "cell_type": "markdown",
   "id": "cd1910c7",
   "metadata": {},
   "source": [
    "resultado a mejorar"
   ]
  },
  {
   "cell_type": "code",
   "execution_count": 14,
   "id": "6288b14c",
   "metadata": {
    "scrolled": false
   },
   "outputs": [
    {
     "name": "stdout",
     "output_type": "stream",
     "text": [
      "Standardized: 85.52% (5.01%)\n"
     ]
    }
   ],
   "source": [
    "results = cross_val_score(pipeline2, X, encoded_Y, cv=kfold)\n",
    "print(\"Standardized: %.2f%% (%.2f%%)\" % (results.mean()*100, results.std()*100))"
   ]
  },
  {
   "cell_type": "markdown",
   "id": "0da78386",
   "metadata": {},
   "source": [
    "Con menos neuronas en la entrada el proceso de entrenamiento deberia ser mas rapido(porque hay menos neuronas que entrenar) ademas deberia haber un ligero aumento de la precisión media estimada importante reducción de la desviación estándar (dispersión media) de las puntuaciones de precisión del modelo. "
   ]
  },
  {
   "cell_type": "code",
   "execution_count": 15,
   "id": "34fe5d1a",
   "metadata": {},
   "outputs": [
    {
     "name": "stdout",
     "output_type": "stream",
     "text": [
      "Standardized: 86.00% (5.14%)\n"
     ]
    }
   ],
   "source": [
    "results = cross_val_score(pipeline3, X, encoded_Y, cv=kfold)\n",
    "print(\"Standardized: %.2f%% (%.2f%%)\" % (results.mean()*100, results.std()*100))"
   ]
  },
  {
   "cell_type": "markdown",
   "id": "27b0ca3a",
   "metadata": {},
   "source": [
    "Una topología de red neuronal con más capas ofrece más oportunidades para que la red extraiga características clave y las recombine de formas no lineales útiles.\n",
    "\n",
    "La idea es que la red tenga la oportunidad de modelar todas las variables de entrada antes de que se produzca un cuello de botella y se vea obligada a reducir a la mitad la capacidad de representación"
   ]
  },
  {
   "cell_type": "code",
   "execution_count": null,
   "id": "8cd868e6",
   "metadata": {},
   "outputs": [],
   "source": []
  },
  {
   "cell_type": "code",
   "execution_count": null,
   "id": "de720f31",
   "metadata": {},
   "outputs": [],
   "source": []
  },
  {
   "cell_type": "code",
   "execution_count": null,
   "id": "68163c54",
   "metadata": {},
   "outputs": [],
   "source": []
  },
  {
   "cell_type": "code",
   "execution_count": null,
   "id": "02175fd2",
   "metadata": {},
   "outputs": [],
   "source": []
  },
  {
   "cell_type": "code",
   "execution_count": null,
   "id": "b2d109d8",
   "metadata": {},
   "outputs": [],
   "source": []
  },
  {
   "cell_type": "code",
   "execution_count": null,
   "id": "88c791f0",
   "metadata": {},
   "outputs": [],
   "source": []
  },
  {
   "cell_type": "code",
   "execution_count": null,
   "id": "f760fe8b",
   "metadata": {},
   "outputs": [],
   "source": []
  },
  {
   "cell_type": "code",
   "execution_count": null,
   "id": "4aef02b9",
   "metadata": {},
   "outputs": [],
   "source": []
  },
  {
   "cell_type": "code",
   "execution_count": null,
   "id": "d5c69dce",
   "metadata": {},
   "outputs": [],
   "source": []
  },
  {
   "cell_type": "code",
   "execution_count": null,
   "id": "2aa371a8",
   "metadata": {},
   "outputs": [],
   "source": []
  },
  {
   "cell_type": "code",
   "execution_count": null,
   "id": "d7904517",
   "metadata": {},
   "outputs": [],
   "source": []
  },
  {
   "cell_type": "code",
   "execution_count": null,
   "id": "07946e19",
   "metadata": {},
   "outputs": [],
   "source": []
  },
  {
   "cell_type": "code",
   "execution_count": null,
   "id": "407a8cee",
   "metadata": {},
   "outputs": [],
   "source": []
  },
  {
   "cell_type": "code",
   "execution_count": null,
   "id": "c0dabe82",
   "metadata": {},
   "outputs": [],
   "source": []
  }
 ],
 "metadata": {
  "kernelspec": {
   "display_name": "book_new",
   "language": "python",
   "name": "book_new"
  },
  "language_info": {
   "codemirror_mode": {
    "name": "ipython",
    "version": 3
   },
   "file_extension": ".py",
   "mimetype": "text/x-python",
   "name": "python",
   "nbconvert_exporter": "python",
   "pygments_lexer": "ipython3",
   "version": "3.7.10"
  }
 },
 "nbformat": 4,
 "nbformat_minor": 5
}
