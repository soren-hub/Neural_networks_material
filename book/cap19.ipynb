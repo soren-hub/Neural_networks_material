{
 "cells": [
  {
   "cell_type": "code",
   "execution_count": 26,
   "id": "6505cb11",
   "metadata": {},
   "outputs": [],
   "source": [
    "import numpy\n",
    "from keras.datasets import mnist\n",
    "from keras.models import Sequential\n",
    "from keras.layers import Dense\n",
    "from keras.layers import Dropout\n",
    "from keras.utils import np_utils\n",
    "from keras.datasets import mnist\n",
    "import matplotlib.pyplot as plt\n",
    "# fix random seed for reproducibility\n",
    "seed = 7\n",
    "numpy.random.seed(seed)"
   ]
  },
  {
   "cell_type": "code",
   "execution_count": 2,
   "id": "f73f78d8",
   "metadata": {},
   "outputs": [
    {
     "data": {
      "image/png": "[encoded data removed]",
      "text/plain": [
       "<Figure size 432x288 with 4 Axes>"
      ]
     },
     "metadata": {
      "needs_background": "light"
     },
     "output_type": "display_data"
    }
   ],
   "source": [
    "# load (downloaded if needed) the MNIST dataset\n",
    "(X_train, y_train), (X_test, y_test) = mnist.load_data()\n",
    "# plot 4 images as gray scale\n",
    "plt.subplot(221)\n",
    "plt.imshow(X_train[0], cmap=plt.get_cmap( \"gray\" ))\n",
    "plt.subplot(222)\n",
    "plt.imshow(X_train[1], cmap=plt.get_cmap( \"gray\" ))\n",
    "plt.subplot(223)\n",
    "plt.imshow(X_train[2], cmap=plt.get_cmap( \"gray\" ))\n",
    "plt.subplot(224)\n",
    "plt.imshow(X_train[3], cmap=plt.get_cmap( \"gray\" ))\n",
    "# show the plot\n",
    "plt.show()"
   ]
  },
  {
   "cell_type": "code",
   "execution_count": 3,
   "id": "30eaac0c",
   "metadata": {},
   "outputs": [],
   "source": [
    "# flatten 28*28 images to a 784 vector for each image\n",
    "num_pixels = X_train.shape[1] * X_train.shape[2]\n",
    "X_train = X_train.reshape(X_train.shape[0], num_pixels).astype( \"float32\" )\n",
    "X_test = X_test.reshape(X_test.shape[0], num_pixels).astype( \"float32\" )"
   ]
  },
  {
   "cell_type": "code",
   "execution_count": 4,
   "id": "4ad8165b",
   "metadata": {},
   "outputs": [],
   "source": [
    "# normalize inputs from 0-255 to 0-1\n",
    "X_train = X_train / 255\n",
    "X_test = X_test / 255"
   ]
  },
  {
   "cell_type": "code",
   "execution_count": 5,
   "id": "43b7f75c",
   "metadata": {},
   "outputs": [],
   "source": [
    "# one hot encode outputs\n",
    "y_train = np_utils.to_categorical(y_train)\n",
    "y_test = np_utils.to_categorical(y_test)\n",
    "num_classes = y_test.shape[1]"
   ]
  },
  {
   "cell_type": "code",
   "execution_count": 6,
   "id": "900a987d",
   "metadata": {},
   "outputs": [
    {
     "name": "stdout",
     "output_type": "stream",
     "text": [
      "784\n"
     ]
    }
   ],
   "source": [
    "print(num_pixels)"
   ]
  },
  {
   "cell_type": "markdown",
   "id": "a2c17e1e",
   "metadata": {},
   "source": [
    "# Modelo de referencia con perceptores multicapa"
   ]
  },
  {
   "cell_type": "code",
   "execution_count": 7,
   "id": "4578d542",
   "metadata": {},
   "outputs": [],
   "source": [
    "#simple model \n",
    "def baseline_model():\n",
    "    # create model\n",
    "    model = Sequential()\n",
    "    model.add(Dense(num_pixels, input_dim=num_pixels, kernel_initializer= \"normal\" , activation= \"relu\" ))\n",
    "    model.add(Dense(num_classes, kernel_initializer= \"normal\" , activation= \"softmax\" ))\n",
    "    # Compile model\n",
    "    model.compile(loss= \"categorical_crossentropy\" , optimizer= \"adam\" , metrics=[ \"accuracy\" ])\n",
    "    return model"
   ]
  },
  {
   "cell_type": "markdown",
   "id": "88343096",
   "metadata": {},
   "source": [
    "<img src=\"img/cap19.png\" height=\"600px\" width=\"400px\" />\n",
    "\n"
   ]
  },
  {
   "cell_type": "code",
   "execution_count": 8,
   "id": "503bd32c",
   "metadata": {},
   "outputs": [
    {
     "name": "stdout",
     "output_type": "stream",
     "text": [
      "Train on 60000 samples, validate on 10000 samples\n",
      "Epoch 1/10\n",
      " - 1s - loss: 0.2508 - accuracy: 0.9270 - val_loss: 0.1411 - val_accuracy: 0.9581\n",
      "Epoch 2/10\n",
      " - 1s - loss: 0.1151 - accuracy: 0.9675 - val_loss: 0.1056 - val_accuracy: 0.9673\n",
      "Epoch 3/10\n",
      " - 1s - loss: 0.0842 - accuracy: 0.9763 - val_loss: 0.0874 - val_accuracy: 0.9739\n",
      "Epoch 4/10\n",
      " - 1s - loss: 0.0665 - accuracy: 0.9818 - val_loss: 0.0808 - val_accuracy: 0.9777\n",
      "Epoch 5/10\n",
      " - 1s - loss: 0.0544 - accuracy: 0.9855 - val_loss: 0.0721 - val_accuracy: 0.9793\n",
      "Epoch 6/10\n",
      " - 1s - loss: 0.0448 - accuracy: 0.9883 - val_loss: 0.0714 - val_accuracy: 0.9786\n",
      "Epoch 7/10\n",
      " - 1s - loss: 0.0382 - accuracy: 0.9905 - val_loss: 0.0673 - val_accuracy: 0.9800\n",
      "Epoch 8/10\n",
      " - 1s - loss: 0.0319 - accuracy: 0.9925 - val_loss: 0.0632 - val_accuracy: 0.9814\n",
      "Epoch 9/10\n",
      " - 1s - loss: 0.0270 - accuracy: 0.9940 - val_loss: 0.0610 - val_accuracy: 0.9809\n",
      "Epoch 10/10\n",
      " - 1s - loss: 0.0232 - accuracy: 0.9954 - val_loss: 0.0601 - val_accuracy: 0.9808\n",
      "Baseline Error: 1.92%\n"
     ]
    }
   ],
   "source": [
    "# build the model\n",
    "model = baseline_model()\n",
    "# Fit the model\n",
    "model.fit(X_train, y_train, validation_data=(X_test, y_test), epochs=10, batch_size=200,verbose=2)\n",
    "# Final evaluation of the model\n",
    "scores = model.evaluate(X_test, y_test, verbose=0)\n",
    "print(\"Baseline Error: %.2f%%\" % (100-scores[1]*100))"
   ]
  },
  {
   "cell_type": "markdown",
   "id": "94d24c8d",
   "metadata": {},
   "source": [
    "# Red neuronal convolucional simple "
   ]
  },
  {
   "cell_type": "code",
   "execution_count": 27,
   "id": "eeb8a637",
   "metadata": {},
   "outputs": [],
   "source": [
    "from keras.layers import Flatten\n",
    "from keras.layers.convolutional import Conv2D\n",
    "from keras.layers.convolutional import MaxPooling2D"
   ]
  },
  {
   "cell_type": "code",
   "execution_count": 28,
   "id": "11f53960",
   "metadata": {},
   "outputs": [],
   "source": [
    "(X_train, y_train), (X_test, y_test) = mnist.load_data()"
   ]
  },
  {
   "cell_type": "code",
   "execution_count": 29,
   "id": "949b5953",
   "metadata": {},
   "outputs": [],
   "source": [
    "# load data\n",
    "# reshape to be [samples][channels][width][height]\n",
    "X_train = X_train.reshape(X_train.shape[0], 1, 28, 28).astype( \"float32\" )\n",
    "X_test = X_test.reshape(X_test.shape[0], 1, 28, 28).astype( \"float32\" )"
   ]
  },
  {
   "cell_type": "code",
   "execution_count": 30,
   "id": "2e2df109",
   "metadata": {},
   "outputs": [],
   "source": [
    "# normalize inputs from 0-255 to 0-1\n",
    "X_train = X_train / 255\n",
    "X_test = X_test / 255\n",
    "# one hot encode outputs\n",
    "y_train = np_utils.to_categorical(y_train)\n",
    "y_test = np_utils.to_categorical(y_test)\n",
    "num_classes = y_test.shape[1]"
   ]
  },
  {
   "cell_type": "code",
   "execution_count": 14,
   "id": "f4417b2a",
   "metadata": {},
   "outputs": [],
   "source": [
    "# define a simple CNN model\n",
    "# padding== border_mode==valid por defecto \n",
    "def cnn_model():\n",
    "    # create model\n",
    "    model = Sequential()\n",
    "    model.add(Conv2D(32, kernel_size=(5, 5), input_shape=(1,28, 28), activation= \"relu\",data_format=\"channels_first\" ))\n",
    "    model.add(MaxPooling2D(pool_size=(2, 2)))\n",
    "    model.add(Dropout(0.2))\n",
    "    model.add(Flatten())\n",
    "    model.add(Dense(128, activation= \"relu\" ))\n",
    "    model.add(Dense(num_classes, activation= \"softmax\" ))\n",
    "    # Compile model\n",
    "    model.compile(loss= \"categorical_crossentropy\" , optimizer= \"adam\" , metrics=[ \"accuracy\" ])\n",
    "    return model"
   ]
  },
  {
   "cell_type": "markdown",
   "id": "82db038c",
   "metadata": {},
   "source": [
    "<img src=\"img/cnnlarga.png\" height=\"600px\" width=\"400px\" />"
   ]
  },
  {
   "cell_type": "code",
   "execution_count": 15,
   "id": "b7544afc",
   "metadata": {},
   "outputs": [
    {
     "name": "stdout",
     "output_type": "stream",
     "text": [
      "Train on 60000 samples, validate on 10000 samples\n",
      "Epoch 1/10\n",
      " - 3s - loss: 0.2125 - accuracy: 0.9373 - val_loss: 0.0833 - val_accuracy: 0.9751\n",
      "Epoch 2/10\n",
      " - 1s - loss: 0.0721 - accuracy: 0.9786 - val_loss: 0.0511 - val_accuracy: 0.9844\n",
      "Epoch 3/10\n",
      " - 2s - loss: 0.0525 - accuracy: 0.9845 - val_loss: 0.0422 - val_accuracy: 0.9866\n",
      "Epoch 4/10\n",
      " - 1s - loss: 0.0434 - accuracy: 0.9868 - val_loss: 0.0397 - val_accuracy: 0.9871\n",
      "Epoch 5/10\n",
      " - 1s - loss: 0.0373 - accuracy: 0.9888 - val_loss: 0.0366 - val_accuracy: 0.9880\n",
      "Epoch 6/10\n",
      " - 2s - loss: 0.0316 - accuracy: 0.9907 - val_loss: 0.0333 - val_accuracy: 0.9890\n",
      "Epoch 7/10\n",
      " - 1s - loss: 0.0276 - accuracy: 0.9915 - val_loss: 0.0350 - val_accuracy: 0.9878\n",
      "Epoch 8/10\n",
      " - 1s - loss: 0.0258 - accuracy: 0.9924 - val_loss: 0.0334 - val_accuracy: 0.9885\n",
      "Epoch 9/10\n",
      " - 2s - loss: 0.0231 - accuracy: 0.9931 - val_loss: 0.0310 - val_accuracy: 0.9893\n",
      "Epoch 10/10\n",
      " - 1s - loss: 0.0205 - accuracy: 0.9939 - val_loss: 0.0349 - val_accuracy: 0.9881\n",
      "CNN Error: 1.19%\n"
     ]
    }
   ],
   "source": [
    "# build the model\n",
    "model_cnn = cnn_model()\n",
    "# Fit the model\n",
    "model_cnn.fit(X_train, y_train, validation_data=(X_test, y_test), epochs=10, batch_size=200, verbose=2)\n",
    "# Final evaluation of the model\n",
    "scores_cnn = model_cnn.evaluate(X_test, y_test, verbose=0)\n",
    "print(\"CNN Error: %.2f%%\" % (100-scores_cnn[1]*100))"
   ]
  },
  {
   "cell_type": "markdown",
   "id": "8d323ef5",
   "metadata": {},
   "source": [
    "# Red neuronal convolucional larga"
   ]
  },
  {
   "cell_type": "code",
   "execution_count": 31,
   "id": "e6577067",
   "metadata": {},
   "outputs": [],
   "source": [
    "#\"channels_first\" (formerly \"th\")\n",
    "#\"channels_last\" (formerly \"tf\").\n",
    "#investigar para que sirve:\n",
    "#set_image_data_format(\"channels_first\")==Conv2D(input_shape=(1,...), data_format=\"channels_first\" )\n",
    "from tensorflow.keras import backend as K\n",
    "K.set_image_data_format(\"channels_first\")"
   ]
  },
  {
   "cell_type": "markdown",
   "id": "a21f2667",
   "metadata": {},
   "source": [
    "<img src=\"img/cnnsimple.png\" height=\"600px\" width=\"400px\" />"
   ]
  },
  {
   "cell_type": "code",
   "execution_count": 34,
   "id": "99479c63",
   "metadata": {},
   "outputs": [],
   "source": [
    "def larger_model():\n",
    "    # create model\n",
    "    model = Sequential()\n",
    "    model.add(Conv2D(30, (5, 5), input_shape=(1, 28, 28), activation= \"relu\"))\n",
    "    model.add(MaxPooling2D(pool_size=(2, 2)))\n",
    "    model.add(Conv2D(15, (3, 3), activation= \"relu\" ))\n",
    "    model.add(MaxPooling2D(pool_size=(2, 2)))\n",
    "    model.add(Dropout(0.2))\n",
    "    model.add(Flatten())\n",
    "    model.add(Dense(128, activation= \"relu\" ))\n",
    "    model.add(Dense(50, activation= \"relu\" ))\n",
    "    model.add(Dense(num_classes, activation= \"softmax\" ))\n",
    "    # Compile model\n",
    "    model.compile(loss= \"categorical_crossentropy\" , optimizer= \"adam\" , metrics=[ \"accuracy\" ])\n",
    "    return model"
   ]
  },
  {
   "cell_type": "code",
   "execution_count": 35,
   "id": "5e578d7f",
   "metadata": {},
   "outputs": [
    {
     "name": "stdout",
     "output_type": "stream",
     "text": [
      "Train on 60000 samples, validate on 10000 samples\n",
      "Epoch 1/10\n",
      " - 2s - loss: 0.3384 - accuracy: 0.8939 - val_loss: 0.0832 - val_accuracy: 0.9760\n",
      "Epoch 2/10\n",
      " - 1s - loss: 0.0998 - accuracy: 0.9693 - val_loss: 0.0524 - val_accuracy: 0.9837\n",
      "Epoch 3/10\n",
      " - 1s - loss: 0.0728 - accuracy: 0.9773 - val_loss: 0.0459 - val_accuracy: 0.9855\n",
      "Epoch 4/10\n",
      " - 1s - loss: 0.0622 - accuracy: 0.9809 - val_loss: 0.0372 - val_accuracy: 0.9881\n",
      "Epoch 5/10\n",
      " - 1s - loss: 0.0553 - accuracy: 0.9829 - val_loss: 0.0340 - val_accuracy: 0.9882\n",
      "Epoch 6/10\n",
      " - 1s - loss: 0.0512 - accuracy: 0.9841 - val_loss: 0.0287 - val_accuracy: 0.9912\n",
      "Epoch 7/10\n",
      " - 1s - loss: 0.0461 - accuracy: 0.9856 - val_loss: 0.0314 - val_accuracy: 0.9889\n",
      "Epoch 8/10\n",
      " - 1s - loss: 0.0431 - accuracy: 0.9872 - val_loss: 0.0285 - val_accuracy: 0.9909\n",
      "Epoch 9/10\n",
      " - 1s - loss: 0.0398 - accuracy: 0.9877 - val_loss: 0.0271 - val_accuracy: 0.9904\n",
      "Epoch 10/10\n",
      " - 1s - loss: 0.0368 - accuracy: 0.9886 - val_loss: 0.0277 - val_accuracy: 0.9906\n",
      "Large CNN Error: 0.94%\n"
     ]
    }
   ],
   "source": [
    "# build the model\n",
    "model_cnn_l = larger_model()\n",
    "# Fit the model\n",
    "model_cnn_l.fit(X_train, y_train, validation_data=(X_test, y_test), epochs=10, batch_size=200,verbose=2)\n",
    "# Final evaluation of the model\n",
    "scores = model_cnn_l.evaluate(X_test, y_test, verbose=0)\n",
    "print(\"Large CNN Error: %.2f%%\" % (100-scores[1]*100))"
   ]
  },
  {
   "cell_type": "markdown",
   "id": "4e713419",
   "metadata": {},
   "source": [
    "<img src=\"img/meme.jpg\" height=\"600px\" width=\"400px\" />"
   ]
  },
  {
   "cell_type": "code",
   "execution_count": null,
   "id": "2a13df88",
   "metadata": {},
   "outputs": [],
   "source": []
  }
 ],
 "metadata": {
  "kernelspec": {
   "display_name": "book_new",
   "language": "python",
   "name": "book_new"
  },
  "language_info": {
   "codemirror_mode": {
    "name": "ipython",
    "version": 3
   },
   "file_extension": ".py",
   "mimetype": "text/x-python",
   "name": "python",
   "nbconvert_exporter": "python",
   "pygments_lexer": "ipython3",
   "version": "3.7.10"
  }
 },
 "nbformat": 4,
 "nbformat_minor": 5
}
