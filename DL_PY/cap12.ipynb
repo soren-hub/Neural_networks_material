{
 "cells": [
  {
   "cell_type": "code",
   "execution_count": 1,
   "id": "1189612f",
   "metadata": {},
   "outputs": [
    {
     "name": "stderr",
     "output_type": "stream",
     "text": [
      "Using TensorFlow backend.\n"
     ]
    }
   ],
   "source": [
    "import numpy\n",
    "import pandas\n",
    "from keras.models import Sequential\n",
    "from keras.layers import Dense\n",
    "from keras.wrappers.scikit_learn import KerasRegressor\n",
    "from sklearn.model_selection import cross_val_score\n",
    "from sklearn.model_selection import KFold\n",
    "from sklearn.preprocessing import StandardScaler\n",
    "from sklearn.pipeline import Pipeline"
   ]
  },
  {
   "cell_type": "code",
   "execution_count": 3,
   "id": "a5622b18",
   "metadata": {},
   "outputs": [],
   "source": [
    "dataframe = pandas.read_csv(\"C:/Users/joaqu/Desktop/proyecto/ensayos/datos/housing.csv\",delim_whitespace=True, header=None ) \n",
    "dataset = dataframe.values\n",
    "# split into input (X) and output (Y) variables\n",
    "X = dataset[:,0:13]\n",
    "Y = dataset[:,13]"
   ]
  },
  {
   "cell_type": "code",
   "execution_count": 4,
   "id": "b3001dbf",
   "metadata": {},
   "outputs": [],
   "source": [
    "# define base mode\n",
    "def baseline_model():\n",
    "    # create model\n",
    "    model = Sequential()\n",
    "    model.add(Dense(13, input_dim=13, kernel_initializer= \"normal\" , activation= \"relu\" ))\n",
    "    model.add(Dense(1, kernel_initializer= \"normal\" ))\n",
    "    # Compile model\n",
    "    model.compile(loss= \"mean_squared_error\" , optimizer= \"adam\" )\n",
    "    return model\n",
    "\n",
    "def baseline_model2():\n",
    "    # create model\n",
    "    model = Sequential()\n",
    "    model.add(Dense(13, input_dim=13, kernel_initializer= \"normal\" , activation= \"relu\" ))\n",
    "    model.add(Dense(6, kernel_initializer= \"normal\" , activation= \"relu\"))\n",
    "    model.add(Dense(1, kernel_initializer= \"normal\" ))\n",
    "    # Compile model\n",
    "    model.compile(loss= \"mean_squared_error\" , optimizer= \"adam\" )\n",
    "    return model\n",
    "\n",
    "\n",
    "def baseline_model3():\n",
    "    # create model\n",
    "    model = Sequential()\n",
    "    model.add(Dense(20, input_dim=13, kernel_initializer= \"normal\" , activation= \"relu\" ))\n",
    "    model.add(Dense(1, kernel_initializer= \"normal\" ))\n",
    "    # Compile model\n",
    "    model.compile(loss= \"mean_squared_error\" , optimizer= \"adam\" )\n",
    "    return model"
   ]
  },
  {
   "cell_type": "code",
   "execution_count": 5,
   "id": "58d71a32",
   "metadata": {},
   "outputs": [],
   "source": [
    "# fix random seed for reproducibility\n",
    "seed = 7\n",
    "numpy.random.seed(seed)"
   ]
  },
  {
   "cell_type": "code",
   "execution_count": null,
   "id": "1616d1c6",
   "metadata": {},
   "outputs": [],
   "source": [
    "# evaluate model with standardized dataset\n",
    "#estimator = KerasRegressor(build_fn=baseline_model, epochs=100, batch_size=5, verbose=0)\n",
    "#kfold = KFold(n_splits=10, random_state=seed)\n",
    "#results = cross_val_score(estimator, X, Y, cv=kfold)\n",
    "#print(\"Baseline: %.2f (%.2f) MSE\" % (results.mean(), results.std()))"
   ]
  },
  {
   "cell_type": "markdown",
   "id": "e3beb088",
   "metadata": {},
   "source": [
    "no se si esta bien que de negativo "
   ]
  },
  {
   "cell_type": "code",
   "execution_count": 6,
   "id": "e62329e8",
   "metadata": {},
   "outputs": [],
   "source": [
    "estimators = []\n",
    "estimators.append(( \"standardize\" , StandardScaler()))\n",
    "estimators.append(( \"mlp\" , KerasRegressor(build_fn=baseline_model, epochs=50,\n",
    "                                            batch_size=5, verbose=0)))\n",
    "\n",
    "estimators2 = []\n",
    "estimators2.append(( \"standardize\" , StandardScaler()))\n",
    "estimators2.append(( \"mlp\" , KerasRegressor(build_fn=baseline_model2, epochs=50,\n",
    "                                            batch_size=5, verbose=0)))\n",
    "\n",
    "estimators3 = []\n",
    "estimators3.append(( \"standardize\" , StandardScaler()))\n",
    "estimators3.append(( \"mlp\" , KerasRegressor(build_fn=baseline_model3, epochs=50,\n",
    "                                            batch_size=5, verbose=0)))"
   ]
  },
  {
   "cell_type": "code",
   "execution_count": 7,
   "id": "96114515",
   "metadata": {},
   "outputs": [],
   "source": [
    "pipeline = Pipeline(estimators)\n",
    "pipeline2 = Pipeline(estimators2)\n",
    "pipeline3 = Pipeline(estimators3)\n",
    "kfold = KFold(n_splits=10, random_state=seed)\n"
   ]
  },
  {
   "cell_type": "code",
   "execution_count": 8,
   "id": "5277de5e",
   "metadata": {},
   "outputs": [
    {
     "name": "stdout",
     "output_type": "stream",
     "text": [
      "Standardized: -38.64 (37.21) MSE\n"
     ]
    }
   ],
   "source": [
    "results = cross_val_score(pipeline, X, Y, cv=kfold)\n",
    "print(\"Standardized: %.2f (%.2f) MSE\" % (results.mean(), results.std()))"
   ]
  },
  {
   "cell_type": "code",
   "execution_count": 9,
   "id": "3c9aeab5",
   "metadata": {},
   "outputs": [
    {
     "name": "stdout",
     "output_type": "stream",
     "text": [
      "Standardized: -33.87 (35.56) MSE\n"
     ]
    }
   ],
   "source": [
    "results2 = cross_val_score(pipeline2, X, Y, cv=kfold)\n",
    "print(\"Standardized: %.2f (%.2f) MSE\" % (results2.mean(), results2.std()))"
   ]
  },
  {
   "cell_type": "markdown",
   "id": "035ab22e",
   "metadata": {},
   "source": [
    "La ejecución de este modelo muestra una mejora en el rendimiento de 30 a 22mil dólares al cuadrado."
   ]
  },
  {
   "cell_type": "code",
   "execution_count": 10,
   "id": "85c60153",
   "metadata": {},
   "outputs": [
    {
     "name": "stdout",
     "output_type": "stream",
     "text": [
      "Standardized: -34.84 (30.75) MSE\n"
     ]
    }
   ],
   "source": [
    "results3 = cross_val_score(pipeline3, X, Y, cv=kfold)\n",
    "print(\"Standardized: %.2f (%.2f) MSE\" % (results3.mean(), results3.std()))"
   ]
  },
  {
   "cell_type": "markdown",
   "id": "26bef0fa",
   "metadata": {},
   "source": [
    "algo anda mal en esto ultimo, junto a los ejercicios del cap anterios a medida que se avanza deberia ser mas preciso los algoritmos pero eso solo pasa en ciertos casos, al momento de correr todo de nuevo es muy probable que no se mejoren los resultados \n"
   ]
  },
  {
   "cell_type": "code",
   "execution_count": null,
   "id": "370a25f1",
   "metadata": {},
   "outputs": [],
   "source": []
  }
 ],
 "metadata": {
  "kernelspec": {
   "display_name": "book_new",
   "language": "python",
   "name": "book_new"
  },
  "language_info": {
   "codemirror_mode": {
    "name": "ipython",
    "version": 3
   },
   "file_extension": ".py",
   "mimetype": "text/x-python",
   "name": "python",
   "nbconvert_exporter": "python",
   "pygments_lexer": "ipython3",
   "version": "3.7.10"
  }
 },
 "nbformat": 4,
 "nbformat_minor": 5
}
