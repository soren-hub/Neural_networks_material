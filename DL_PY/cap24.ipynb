{
 "cells": [
  {
   "cell_type": "markdown",
   "id": "84d37025",
   "metadata": {},
   "source": [
    "## Time Series Prediction with Multilayer Perceptrons"
   ]
  },
  {
   "cell_type": "markdown",
   "id": "feb0b6da",
   "metadata": {},
   "source": [
    "\n"
   ]
  },
  {
   "cell_type": "markdown",
   "id": "e801b10b",
   "metadata": {},
   "source": [
    "Normalmente, es una buena idea investigar varias técnicas de preparación de datos para **reescalar los datos** y **hacerlos estacionarios**"
   ]
  },
  {
   "cell_type": "markdown",
   "id": "f85dc39a",
   "metadata": {},
   "source": [
    "This is a problem where given a year and a month, the task is to predict the number of\n",
    "international airline passengers in **units of 1,000**. The data ranges from January 1949 to December\n",
    "1960 or 12 years, with 144 observations"
   ]
  },
  {
   "cell_type": "code",
   "execution_count": 1,
   "id": "70c444d9",
   "metadata": {},
   "outputs": [
    {
     "data": {
      "image/png": "[encoded data removed]",
      "text/plain": [
       "<Figure size 432x288 with 1 Axes>"
      ]
     },
     "metadata": {
      "needs_background": "light"
     },
     "output_type": "display_data"
    }
   ],
   "source": [
    "import pandas\n",
    "import matplotlib.pyplot as plt\n",
    "\n",
    "dataframe = pandas.read_csv(\"datos/datoscap24.csv\",sep=\";\",header=0,usecols=[1])\n",
    "plt.plot(dataframe)\n",
    "plt.show()"
   ]
  },
  {
   "cell_type": "markdown",
   "id": "4d264a2d",
   "metadata": {},
   "source": [
    "## Multilayer Perceptron Regression"
   ]
  },
  {
   "cell_type": "markdown",
   "id": "865ae597",
   "metadata": {},
   "source": [
    "Como primera aproximación al problema intentaremos predecir la cantidad de vuelos con **MPR** y luego con **LSTM**.\n",
    "\n",
    "Podemos escribir una función sencilla para convertir nuestra única columna de datos en un conjunto de datos de dos columnas. La primera columna contiene el recuento de pasajeros de este mes (t) y la segunda columna contiene el recuento de pasajeros del próximo mes (t+1), que debe predecirse."
   ]
  },
  {
   "cell_type": "code",
   "execution_count": 2,
   "id": "07a0fc5a",
   "metadata": {},
   "outputs": [
    {
     "name": "stderr",
     "output_type": "stream",
     "text": [
      "Using TensorFlow backend.\n"
     ]
    }
   ],
   "source": [
    "import numpy\n",
    "import matplotlib.pyplot as plt\n",
    "import pandas\n",
    "import math\n",
    "from keras.models import Sequential\n",
    "from keras.layers import Dense\n",
    "# fix random seed for reproducibility\n",
    "numpy.random.seed(7)"
   ]
  },
  {
   "cell_type": "code",
   "execution_count": 3,
   "id": "05677edf",
   "metadata": {},
   "outputs": [],
   "source": [
    "dataset = dataframe.values\n",
    "dataset = dataset.astype(\"float32\")"
   ]
  },
  {
   "cell_type": "code",
   "execution_count": null,
   "id": "46981276",
   "metadata": {},
   "outputs": [],
   "source": []
  },
  {
   "cell_type": "markdown",
   "id": "2f3ebb40",
   "metadata": {},
   "source": [
    "Hay que tener cuidado en estos casos al momento de separar la data ya que el orden es importante, no podemos hacer un cross-validation como en los problemas de clasificación o regresión.\n",
    "\n",
    "Intentaremos predecir el ultimo $33\\%$ de los datos esto quiere decir los ultimos 48 meses. "
   ]
  },
  {
   "cell_type": "code",
   "execution_count": 4,
   "id": "63010578",
   "metadata": {},
   "outputs": [
    {
     "name": "stdout",
     "output_type": "stream",
     "text": [
      "96 48\n"
     ]
    }
   ],
   "source": [
    "train_size = int(len(dataset) * 0.67)\n",
    "test_size = len(dataset) - train_size\n",
    "train, test = dataset[0:train_size,:], dataset[train_size:len(dataset),:]\n",
    "print(len(train), len(test))"
   ]
  },
  {
   "cell_type": "code",
   "execution_count": null,
   "id": "6f5d6c7c",
   "metadata": {},
   "outputs": [],
   "source": []
  },
  {
   "cell_type": "code",
   "execution_count": 5,
   "id": "f0786412",
   "metadata": {},
   "outputs": [],
   "source": [
    "# convert an array of values into a dataset matrix\n",
    "def create_dataset(dataset, look_back=1):\n",
    "    dataX, dataY = [], []\n",
    "    for i in range(len(dataset)-look_back-1):\n",
    "        a = dataset[i:(i+look_back), 0]\n",
    "        dataX.append(a)\n",
    "        dataY.append(dataset[i + look_back, 0])\n",
    "    return numpy.array(dataX), numpy.array(dataY)"
   ]
  },
  {
   "cell_type": "markdown",
   "id": "48116627",
   "metadata": {},
   "source": [
    "¿por qué se hace esta tranformacion extraña? simplemente porque nuestro objetivo es sabiendo el valor $t$ queremos predecir el valor $t+1$ entonces si $x=t$ entonces $y=t+1$ "
   ]
  },
  {
   "cell_type": "code",
   "execution_count": 6,
   "id": "81a4cd4c",
   "metadata": {},
   "outputs": [],
   "source": [
    "look_back = 1\n",
    "trainX, trainY = create_dataset(train, look_back)\n",
    "testX, testY = create_dataset(test, look_back)"
   ]
  },
  {
   "cell_type": "code",
   "execution_count": 7,
   "id": "a32980e5",
   "metadata": {},
   "outputs": [
    {
     "name": "stdout",
     "output_type": "stream",
     "text": [
      "Epoch 1/200\n",
      " - 0s - loss: 45063.9345\n",
      "Epoch 2/200\n",
      " - 0s - loss: 36216.8404\n",
      "Epoch 3/200\n",
      " - 0s - loss: 29902.6994\n",
      "Epoch 4/200\n",
      " - 0s - loss: 24710.3009\n",
      "Epoch 5/200\n",
      " - 0s - loss: 20399.9958\n",
      "Epoch 6/200\n",
      " - 0s - loss: 16759.2809\n",
      "Epoch 7/200\n",
      " - 0s - loss: 13726.3889\n",
      "Epoch 8/200\n",
      " - 0s - loss: 11145.8729\n",
      "Epoch 9/200\n",
      " - 0s - loss: 9003.8401\n",
      "Epoch 10/200\n",
      " - 0s - loss: 7232.4500\n",
      "Epoch 11/200\n",
      " - 0s - loss: 5788.0234\n",
      "Epoch 12/200\n",
      " - 0s - loss: 4617.8471\n",
      "Epoch 13/200\n",
      " - 0s - loss: 3651.3223\n",
      "Epoch 14/200\n",
      " - 0s - loss: 2896.3609\n",
      "Epoch 15/200\n",
      " - 0s - loss: 2287.5361\n",
      "Epoch 16/200\n",
      " - 0s - loss: 1832.9882\n",
      "Epoch 17/200\n",
      " - 0s - loss: 1471.1561\n",
      "Epoch 18/200\n",
      " - 0s - loss: 1212.2056\n",
      "Epoch 19/200\n",
      " - 0s - loss: 1013.4692\n",
      "Epoch 20/200\n",
      " - 0s - loss: 870.0963\n",
      "Epoch 21/200\n",
      " - 0s - loss: 765.4130\n",
      "Epoch 22/200\n",
      " - 0s - loss: 691.5378\n",
      "Epoch 23/200\n",
      " - 0s - loss: 641.2801\n",
      "Epoch 24/200\n",
      " - 0s - loss: 605.3637\n",
      "Epoch 25/200\n",
      " - 0s - loss: 580.8306\n",
      "Epoch 26/200\n",
      " - 0s - loss: 565.6778\n",
      "Epoch 27/200\n",
      " - 0s - loss: 554.7792\n",
      "Epoch 28/200\n",
      " - 0s - loss: 547.5675\n",
      "Epoch 29/200\n",
      " - 0s - loss: 543.7832\n",
      "Epoch 30/200\n",
      " - 0s - loss: 540.3235\n",
      "Epoch 31/200\n",
      " - 0s - loss: 537.8130\n",
      "Epoch 32/200\n",
      " - 0s - loss: 537.6175\n",
      "Epoch 33/200\n",
      " - 0s - loss: 536.2975\n",
      "Epoch 34/200\n",
      " - 0s - loss: 536.3117\n",
      "Epoch 35/200\n",
      " - 0s - loss: 535.4840\n",
      "Epoch 36/200\n",
      " - 0s - loss: 535.7430\n",
      "Epoch 37/200\n",
      " - 0s - loss: 535.3925\n",
      "Epoch 38/200\n",
      " - 0s - loss: 536.1914\n",
      "Epoch 39/200\n",
      " - 0s - loss: 535.3269\n",
      "Epoch 40/200\n",
      " - 0s - loss: 534.7603\n",
      "Epoch 41/200\n",
      " - 0s - loss: 534.8934\n",
      "Epoch 42/200\n",
      " - 0s - loss: 535.3552\n",
      "Epoch 43/200\n",
      " - 0s - loss: 536.6957\n",
      "Epoch 44/200\n",
      " - 0s - loss: 535.1899\n",
      "Epoch 45/200\n",
      " - 0s - loss: 535.2040\n",
      "Epoch 46/200\n",
      " - 0s - loss: 536.3370\n",
      "Epoch 47/200\n",
      " - 0s - loss: 535.7676\n",
      "Epoch 48/200\n",
      " - 0s - loss: 536.0798\n",
      "Epoch 49/200\n",
      " - 0s - loss: 534.4508\n",
      "Epoch 50/200\n",
      " - 0s - loss: 535.7834\n",
      "Epoch 51/200\n",
      " - 0s - loss: 535.2872\n",
      "Epoch 52/200\n",
      " - 0s - loss: 534.4986\n",
      "Epoch 53/200\n",
      " - 0s - loss: 534.8052\n",
      "Epoch 54/200\n",
      " - 0s - loss: 536.8807\n",
      "Epoch 55/200\n",
      " - 0s - loss: 535.0071\n",
      "Epoch 56/200\n",
      " - 0s - loss: 536.2673\n",
      "Epoch 57/200\n",
      " - 0s - loss: 539.4943\n",
      "Epoch 58/200\n",
      " - 0s - loss: 537.2092\n",
      "Epoch 59/200\n",
      " - 0s - loss: 535.6801\n",
      "Epoch 60/200\n",
      " - 0s - loss: 535.9387\n",
      "Epoch 61/200\n",
      " - 0s - loss: 536.0098\n",
      "Epoch 62/200\n",
      " - 0s - loss: 536.8833\n",
      "Epoch 63/200\n",
      " - 0s - loss: 535.2788\n",
      "Epoch 64/200\n",
      " - 0s - loss: 536.2455\n",
      "Epoch 65/200\n",
      " - 0s - loss: 535.0115\n",
      "Epoch 66/200\n",
      " - 0s - loss: 535.3233\n",
      "Epoch 67/200\n",
      " - 0s - loss: 540.5448\n",
      "Epoch 68/200\n",
      " - 0s - loss: 541.8192\n",
      "Epoch 69/200\n",
      " - 0s - loss: 535.1452\n",
      "Epoch 70/200\n",
      " - 0s - loss: 535.1590\n",
      "Epoch 71/200\n",
      " - 0s - loss: 537.2612\n",
      "Epoch 72/200\n",
      " - 0s - loss: 535.6570\n",
      "Epoch 73/200\n",
      " - 0s - loss: 536.2020\n",
      "Epoch 74/200\n",
      " - 0s - loss: 535.2328\n",
      "Epoch 75/200\n",
      " - 0s - loss: 536.0027\n",
      "Epoch 76/200\n",
      " - 0s - loss: 535.1514\n",
      "Epoch 77/200\n",
      " - 0s - loss: 536.1384\n",
      "Epoch 78/200\n",
      " - 0s - loss: 534.3140\n",
      "Epoch 79/200\n",
      " - 0s - loss: 536.2990\n",
      "Epoch 80/200\n",
      " - 0s - loss: 536.1849\n",
      "Epoch 81/200\n",
      " - 0s - loss: 535.1463\n",
      "Epoch 82/200\n",
      " - 0s - loss: 534.8014\n",
      "Epoch 83/200\n",
      " - 0s - loss: 539.2427\n",
      "Epoch 84/200\n",
      " - 0s - loss: 537.6969\n",
      "Epoch 85/200\n",
      " - 0s - loss: 535.5764\n",
      "Epoch 86/200\n",
      " - 0s - loss: 535.2592\n",
      "Epoch 87/200\n",
      " - 0s - loss: 535.2289\n",
      "Epoch 88/200\n",
      " - 0s - loss: 535.9914\n",
      "Epoch 89/200\n",
      " - 0s - loss: 536.8602\n",
      "Epoch 90/200\n",
      " - 0s - loss: 538.9695\n",
      "Epoch 91/200\n",
      " - 0s - loss: 537.7233\n",
      "Epoch 92/200\n",
      " - 0s - loss: 535.7795\n",
      "Epoch 93/200\n",
      " - 0s - loss: 535.7046\n",
      "Epoch 94/200\n",
      " - 0s - loss: 534.7448\n",
      "Epoch 95/200\n",
      " - 0s - loss: 537.0557\n",
      "Epoch 96/200\n",
      " - 0s - loss: 535.1713\n",
      "Epoch 97/200\n",
      " - 0s - loss: 536.0303\n",
      "Epoch 98/200\n",
      " - 0s - loss: 535.4788\n",
      "Epoch 99/200\n",
      " - 0s - loss: 536.3706\n",
      "Epoch 100/200\n",
      " - 0s - loss: 535.5014\n",
      "Epoch 101/200\n",
      " - 0s - loss: 535.3246\n",
      "Epoch 102/200\n",
      " - 0s - loss: 534.6168\n",
      "Epoch 103/200\n",
      " - 0s - loss: 537.1048\n",
      "Epoch 104/200\n",
      " - 0s - loss: 534.0679\n",
      "Epoch 105/200\n",
      " - 0s - loss: 536.7612\n",
      "Epoch 106/200\n",
      " - 0s - loss: 535.7281\n",
      "Epoch 107/200\n",
      " - 0s - loss: 535.4495\n",
      "Epoch 108/200\n",
      " - 0s - loss: 536.4286\n",
      "Epoch 109/200\n",
      " - 0s - loss: 535.0808\n",
      "Epoch 110/200\n",
      " - 0s - loss: 536.5521\n",
      "Epoch 111/200\n",
      " - 0s - loss: 535.1245\n",
      "Epoch 112/200\n",
      " - 0s - loss: 536.0707\n",
      "Epoch 113/200\n",
      " - 0s - loss: 536.0807\n",
      "Epoch 114/200\n",
      " - 0s - loss: 534.1570\n",
      "Epoch 115/200\n",
      " - 0s - loss: 537.7398\n",
      "Epoch 116/200\n",
      " - 0s - loss: 535.2248\n",
      "Epoch 117/200\n",
      " - 0s - loss: 535.8165\n",
      "Epoch 118/200\n",
      " - 0s - loss: 535.5659\n",
      "Epoch 119/200\n",
      " - 0s - loss: 536.0529\n",
      "Epoch 120/200\n",
      " - 0s - loss: 535.5649\n",
      "Epoch 121/200\n",
      " - 0s - loss: 535.5628\n",
      "Epoch 122/200\n",
      " - 0s - loss: 535.8091\n",
      "Epoch 123/200\n",
      " - 0s - loss: 535.5134\n",
      "Epoch 124/200\n",
      " - 0s - loss: 535.2293\n",
      "Epoch 125/200\n",
      " - 0s - loss: 537.7431\n",
      "Epoch 126/200\n",
      " - 0s - loss: 534.3145\n",
      "Epoch 127/200\n",
      " - 0s - loss: 536.1677\n",
      "Epoch 128/200\n",
      " - 0s - loss: 536.2140\n",
      "Epoch 129/200\n",
      " - 0s - loss: 535.9419\n",
      "Epoch 130/200\n",
      " - 0s - loss: 535.9357\n",
      "Epoch 131/200\n",
      " - 0s - loss: 537.1982\n",
      "Epoch 132/200\n",
      " - 0s - loss: 535.8040\n",
      "Epoch 133/200\n",
      " - 0s - loss: 538.6125\n",
      "Epoch 134/200\n",
      " - 0s - loss: 534.3918\n",
      "Epoch 135/200\n",
      " - 0s - loss: 535.4800\n",
      "Epoch 136/200\n",
      " - 0s - loss: 537.7341\n",
      "Epoch 137/200\n",
      " - 0s - loss: 535.2678\n",
      "Epoch 138/200\n",
      " - 0s - loss: 536.9023\n",
      "Epoch 139/200\n",
      " - 0s - loss: 535.7774\n",
      "Epoch 140/200\n",
      " - 0s - loss: 540.2213\n",
      "Epoch 141/200\n",
      " - 0s - loss: 534.4490\n",
      "Epoch 142/200\n",
      " - 0s - loss: 536.4072\n",
      "Epoch 143/200\n",
      " - 0s - loss: 534.4590\n",
      "Epoch 144/200\n",
      " - 0s - loss: 535.4347\n",
      "Epoch 145/200\n",
      " - 0s - loss: 535.8185\n",
      "Epoch 146/200\n",
      " - 0s - loss: 538.3034\n",
      "Epoch 147/200\n",
      " - 0s - loss: 538.5958\n",
      "Epoch 148/200\n",
      " - 0s - loss: 536.4119\n",
      "Epoch 149/200\n",
      " - 0s - loss: 535.5822\n",
      "Epoch 150/200\n",
      " - 0s - loss: 535.8281\n",
      "Epoch 151/200\n",
      " - 0s - loss: 535.1538\n",
      "Epoch 152/200\n",
      " - 0s - loss: 536.8045\n",
      "Epoch 153/200\n",
      " - 0s - loss: 537.7184\n",
      "Epoch 154/200\n",
      " - 0s - loss: 534.0766\n",
      "Epoch 155/200\n",
      " - 0s - loss: 536.5359\n",
      "Epoch 156/200\n",
      " - 0s - loss: 534.3481\n",
      "Epoch 157/200\n",
      " - 0s - loss: 537.9674\n",
      "Epoch 158/200\n",
      " - 0s - loss: 537.4475\n",
      "Epoch 159/200\n",
      " - 0s - loss: 534.7317\n",
      "Epoch 160/200\n",
      " - 0s - loss: 535.2185\n",
      "Epoch 161/200\n",
      " - 0s - loss: 534.7913\n",
      "Epoch 162/200\n",
      " - 0s - loss: 544.9503\n",
      "Epoch 163/200\n",
      " - 0s - loss: 537.3101\n",
      "Epoch 164/200\n",
      " - 0s - loss: 535.5050\n",
      "Epoch 165/200\n",
      " - 0s - loss: 535.0739\n",
      "Epoch 166/200\n",
      " - 0s - loss: 535.9417\n",
      "Epoch 167/200\n",
      " - 0s - loss: 534.6318\n",
      "Epoch 168/200\n",
      " - 0s - loss: 535.8586\n",
      "Epoch 169/200\n",
      " - 0s - loss: 535.1105\n",
      "Epoch 170/200\n",
      " - 0s - loss: 538.9570\n",
      "Epoch 171/200\n",
      " - 0s - loss: 536.5310\n",
      "Epoch 172/200\n",
      " - 0s - loss: 535.7897\n",
      "Epoch 173/200\n",
      " - 0s - loss: 538.2116\n",
      "Epoch 174/200\n",
      " - 0s - loss: 536.3220\n",
      "Epoch 175/200\n",
      " - 0s - loss: 535.0337\n",
      "Epoch 176/200\n",
      " - 0s - loss: 535.9899\n",
      "Epoch 177/200\n",
      " - 0s - loss: 534.0008\n",
      "Epoch 178/200\n",
      " - 0s - loss: 534.8936\n",
      "Epoch 179/200\n",
      " - 0s - loss: 535.4683\n",
      "Epoch 180/200\n",
      " - 0s - loss: 537.1998\n",
      "Epoch 181/200\n",
      " - 0s - loss: 542.0312\n",
      "Epoch 182/200\n",
      " - 0s - loss: 535.8756\n",
      "Epoch 183/200\n",
      " - 0s - loss: 534.4000\n",
      "Epoch 184/200\n",
      " - 0s - loss: 534.5013\n",
      "Epoch 185/200\n",
      " - 0s - loss: 540.9238\n",
      "Epoch 186/200\n",
      " - 0s - loss: 535.3684\n",
      "Epoch 187/200\n",
      " - 0s - loss: 534.4908\n",
      "Epoch 188/200\n",
      " - 0s - loss: 536.0723\n",
      "Epoch 189/200\n",
      " - 0s - loss: 536.5792\n",
      "Epoch 190/200\n",
      " - 0s - loss: 535.4310\n",
      "Epoch 191/200\n",
      " - 0s - loss: 535.0725\n",
      "Epoch 192/200\n",
      " - 0s - loss: 535.9626\n",
      "Epoch 193/200\n",
      " - 0s - loss: 537.5950\n",
      "Epoch 194/200\n",
      " - 0s - loss: 537.1673\n",
      "Epoch 195/200\n",
      " - 0s - loss: 534.2692\n",
      "Epoch 196/200\n",
      " - 0s - loss: 540.1762\n",
      "Epoch 197/200\n",
      " - 0s - loss: 536.4497\n",
      "Epoch 198/200\n",
      " - 0s - loss: 535.4659\n",
      "Epoch 199/200\n",
      " - 0s - loss: 535.4854\n",
      "Epoch 200/200\n",
      " - 0s - loss: 534.0934\n"
     ]
    },
    {
     "data": {
      "text/plain": [
       "<keras.callbacks.callbacks.History at 0x2457e7ac148>"
      ]
     },
     "execution_count": 7,
     "metadata": {},
     "output_type": "execute_result"
    }
   ],
   "source": [
    "model = Sequential()\n",
    "model.add(Dense(8, input_dim=look_back, activation= \"relu\" ))\n",
    "model.add(Dense(1))\n",
    "model.compile(loss = \"mean_squared_error\" , optimizer = \"adam\" )\n",
    "model.fit(trainX, trainY, epochs=200, batch_size=2, verbose=2)"
   ]
  },
  {
   "cell_type": "code",
   "execution_count": 8,
   "id": "393e967a",
   "metadata": {},
   "outputs": [
    {
     "name": "stdout",
     "output_type": "stream",
     "text": [
      "Train Score: 533.05 MSE (23.09 RMSE)\n",
      "Test Score: 2357.82 MSE (48.56 RMSE)\n"
     ]
    }
   ],
   "source": [
    "# Estimate model performance\n",
    "trainScore = model.evaluate(trainX, trainY, verbose=0)\n",
    "print( \"Train Score: %.2f MSE (%.2f RMSE)\" % (trainScore, math.sqrt(trainScore)))\n",
    "testScore = model.evaluate(testX, testY, verbose=0)\n",
    "print( \"Test Score: %.2f MSE (%.2f RMSE)\" % (testScore, math.sqrt(testScore)))"
   ]
  },
  {
   "cell_type": "code",
   "execution_count": 9,
   "id": "83bfc377",
   "metadata": {},
   "outputs": [],
   "source": [
    "# generate predictions for training\n",
    "trainPredict = model.predict(trainX)\n",
    "testPredict = model.predict(testX)"
   ]
  },
  {
   "cell_type": "code",
   "execution_count": 10,
   "id": "70fc3f36",
   "metadata": {},
   "outputs": [],
   "source": [
    "# shift train predictions for plotting\n",
    "trainPredictPlot = numpy.empty_like(dataset)\n",
    "trainPredictPlot[:, :] = numpy.nan\n",
    "trainPredictPlot[look_back:len(trainPredict)+look_back, :] = trainPredict"
   ]
  },
  {
   "cell_type": "code",
   "execution_count": 12,
   "id": "a82d203f",
   "metadata": {},
   "outputs": [],
   "source": [
    "# shift test predictions for plotting\n",
    "testPredictPlot = numpy.empty_like(dataset)\n",
    "testPredictPlot[:, :] = numpy.nan\n",
    "testPredictPlot[len(trainPredict)+(look_back*2)+1:len(dataset)-1, :] = testPredict"
   ]
  },
  {
   "cell_type": "code",
   "execution_count": 13,
   "id": "cc98e5ab",
   "metadata": {},
   "outputs": [
    {
     "data": {
      "image/png": "[encoded data removed]",
      "text/plain": [
       "<Figure size 432x288 with 1 Axes>"
      ]
     },
     "metadata": {
      "needs_background": "light"
     },
     "output_type": "display_data"
    }
   ],
   "source": [
    "plt.plot(dataset)\n",
    "plt.plot(trainPredictPlot)\n",
    "plt.plot(testPredictPlot)\n",
    "plt.show()"
   ]
  },
  {
   "cell_type": "markdown",
   "id": "448592a6",
   "metadata": {},
   "source": []
  },
  {
   "cell_type": "code",
   "execution_count": null,
   "id": "157e98f0",
   "metadata": {},
   "outputs": [],
   "source": []
  }
 ],
 "metadata": {
  "kernelspec": {
   "display_name": "book_new",
   "language": "python",
   "name": "book_new"
  },
  "language_info": {
   "codemirror_mode": {
    "name": "ipython",
    "version": 3
   },
   "file_extension": ".py",
   "mimetype": "text/x-python",
   "name": "python",
   "nbconvert_exporter": "python",
   "pygments_lexer": "ipython3",
   "version": "3.7.10"
  }
 },
 "nbformat": 4,
 "nbformat_minor": 5
}
