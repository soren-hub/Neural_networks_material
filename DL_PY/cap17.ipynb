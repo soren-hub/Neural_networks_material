{
 "cells": [
  {
   "cell_type": "markdown",
   "id": "d7120fbe",
   "metadata": {},
   "source": [
    "Adaptar la tasa de aprendizaje para su procedimiento de optimización de stochastic gradient descent puede aumentar el rendimiento y reducir el tiempo de entrenamiento"
   ]
  },
  {
   "cell_type": "markdown",
   "id": "377bc475",
   "metadata": {},
   "source": [
    "En este capitulo se analizara las formas de optimizar un entrenamiento, principalmente los cambios que se pueden realizar al learning rate segun los parametros de tiempo de convergencia y la magnitud del \"paso\".\n",
    "Por default se tiene un learning rate constante, pero el train podria mejorar si este se va cambiando a traves de cada epoch.\n",
    "\n",
    "La adaptación más sencilla y quizas las más utilizada es reducir el learning rate en función del paso del tiempo. Esto tiene el efecto de aprender rápidamente buenos pesos al principio y afinarlos más tarde. \n",
    "\n",
    "Dos esquemas de tasa de aprendizaje populares y fáciles de usar son los siguientes:\n",
    "* Disminuir la tasa de aprendizaje gradualmente en función de la época.\n",
    "* Disminuir la tasa de aprendizaje mediante grandes caídas puntuales en determinadas épocas."
   ]
  },
  {
   "cell_type": "markdown",
   "id": "717e46c1",
   "metadata": {},
   "source": [
    "## Esquema de la tasa de aprendizaje por tiempo"
   ]
  },
  {
   "cell_type": "markdown",
   "id": "8360bc8e",
   "metadata": {},
   "source": [
    "Keras tiene implementado una funcion de decaimiento dentro de la clase SGD la cual implementa el algoritmo de stochastic gradient descent. \n",
    "\n",
    "La ecuación de la tasa de aprendizaje basada en el tiempo como sigue:\n",
    "\n",
    "$$LearningRate_{new}(decay,epoch) = \\frac{LearningRate_{old}}{1 + decay \\times epoch}$$\n",
    "\n",
    "Si $decay=0$ el learning rate va a ser igual independiente de la epoca "
   ]
  },
  {
   "cell_type": "code",
   "execution_count": 1,
   "id": "faa6d806",
   "metadata": {},
   "outputs": [],
   "source": [
    "#learning_rate_init=0.1\n",
    "decay=0.001\n",
    "learning_rate_history=[0.1]\n",
    "for epoch in range(1,101):\n",
    "    learning_rate_old=learning_rate_history[epoch-1]\n",
    "    learning_rate_history.append(learning_rate_old/(1+decay*epoch))\n"
   ]
  },
  {
   "cell_type": "code",
   "execution_count": 2,
   "id": "ba9b2c00",
   "metadata": {},
   "outputs": [
    {
     "data": {
      "image/png": "[encoded data removed]",
      "text/plain": [
       "<Figure size 432x288 with 1 Axes>"
      ]
     },
     "metadata": {
      "needs_background": "light"
     },
     "output_type": "display_data"
    }
   ],
   "source": [
    "import matplotlib.pyplot as plt\n",
    "plt.plot(learning_rate_history)\n",
    "plt.ylabel('learning_rate_history')\n",
    "plt.show()"
   ]
  },
  {
   "cell_type": "markdown",
   "id": "b7a86454",
   "metadata": {},
   "source": [
    "Puede crear un buen programa por defecto estableciendo el valor de decaimiento de la siguiente manera:\n",
    "\n",
    "$$\n",
    "Decay = \\frac{LearningRate} {Epochs} \\;\n",
    "$$\n",
    "If $learningrate = 0.1$ y $epochs=100$:\n",
    "$$ Decay = \\frac{0.1}{100} \\ =>\\ Decay = 0.001$$\n"
   ]
  },
  {
   "cell_type": "code",
   "execution_count": 3,
   "id": "d7cc072c",
   "metadata": {},
   "outputs": [
    {
     "name": "stderr",
     "output_type": "stream",
     "text": [
      "Using TensorFlow backend.\n"
     ]
    }
   ],
   "source": [
    "import pandas \n",
    "import numpy\n",
    "from keras.models import Sequential\n",
    "from keras.layers import Dense\n",
    "from keras.optimizers import SGD\n",
    "from sklearn.preprocessing import LabelEncoder\n",
    "# fix random seed for reproducibility\n",
    "seed = 7\n",
    "numpy.random.seed(seed)"
   ]
  },
  {
   "cell_type": "code",
   "execution_count": 4,
   "id": "b2beeed7",
   "metadata": {},
   "outputs": [],
   "source": [
    "# load dataset\n",
    "dataframe = pandas.read_csv(\"C:/Users/joaqu/Desktop/proyecto/ensayos/datos/ionosphere.data\", sep=\",\",header=None)\n",
    "dataset = dataframe.values\n",
    "X = dataset[:,:34]\n",
    "Y = dataset[:,34]\n"
   ]
  },
  {
   "cell_type": "code",
   "execution_count": 5,
   "id": "4373bd48",
   "metadata": {},
   "outputs": [],
   "source": [
    "encoder = LabelEncoder()\n",
    "encoder.fit(Y)\n",
    "Y = encoder.transform(Y)"
   ]
  },
  {
   "cell_type": "code",
   "execution_count": 6,
   "id": "1ba7ccf4",
   "metadata": {},
   "outputs": [],
   "source": [
    "# create model\n",
    "model = Sequential()\n",
    "model.add(Dense(34, input_dim=34, kernel_initializer= \"normal\" , activation= \"relu\" ))\n",
    "model.add(Dense(1, kernel_initializer= \"normal\" , activation= \"sigmoid\" ))\n",
    "\n",
    "model2 = Sequential()\n",
    "model2.add(Dense(34, input_dim=34, kernel_initializer= \"normal\" , activation= \"relu\" ))\n",
    "model2.add(Dense(1, kernel_initializer= \"normal\" , activation= \"sigmoid\" ))\n"
   ]
  },
  {
   "cell_type": "code",
   "execution_count": 7,
   "id": "eee509df",
   "metadata": {},
   "outputs": [],
   "source": [
    "# Compile model\n",
    "epochs = 50\n",
    "learning_rate = 0.1\n",
    "decay_rate = learning_rate / epochs\n",
    "momentum = 0.8\n",
    "sgd = SGD(lr=learning_rate, momentum=momentum, decay=decay_rate, nesterov=False)\n",
    "model.compile(loss= \"binary_crossentropy\" , optimizer=sgd, metrics=[ \"accuracy\" ])\n",
    "\n",
    "model2.compile(loss= \"binary_crossentropy\" , optimizer=\"adam\", metrics=[ \"accuracy\" ])"
   ]
  },
  {
   "cell_type": "code",
   "execution_count": 8,
   "id": "72a11feb",
   "metadata": {
    "collapsed": true
   },
   "outputs": [
    {
     "name": "stdout",
     "output_type": "stream",
     "text": [
      "Train on 235 samples, validate on 116 samples\n",
      "Epoch 1/50\n",
      " - 0s - loss: 0.6810 - accuracy: 0.6553 - val_loss: 0.6393 - val_accuracy: 0.8448\n",
      "Epoch 2/50\n",
      " - 0s - loss: 0.6368 - accuracy: 0.7149 - val_loss: 0.5248 - val_accuracy: 0.8190\n",
      "Epoch 3/50\n",
      " - 0s - loss: 0.5561 - accuracy: 0.7915 - val_loss: 0.4423 - val_accuracy: 0.8793\n",
      "Epoch 4/50\n",
      " - 0s - loss: 0.4734 - accuracy: 0.8213 - val_loss: 0.5963 - val_accuracy: 0.7759\n",
      "Epoch 5/50\n",
      " - 0s - loss: 0.3977 - accuracy: 0.8723 - val_loss: 0.3466 - val_accuracy: 0.9310\n",
      "Epoch 6/50\n",
      " - 0s - loss: 0.3100 - accuracy: 0.8979 - val_loss: 0.2150 - val_accuracy: 0.9569\n",
      "Epoch 7/50\n",
      " - 0s - loss: 0.2745 - accuracy: 0.8979 - val_loss: 0.2383 - val_accuracy: 0.9569\n",
      "Epoch 8/50\n",
      " - 0s - loss: 0.2406 - accuracy: 0.9149 - val_loss: 0.1959 - val_accuracy: 0.9655\n",
      "Epoch 9/50\n",
      " - 0s - loss: 0.2161 - accuracy: 0.9149 - val_loss: 0.1453 - val_accuracy: 0.9569\n",
      "Epoch 10/50\n",
      " - 0s - loss: 0.2045 - accuracy: 0.9149 - val_loss: 0.1139 - val_accuracy: 0.9655\n",
      "Epoch 11/50\n",
      " - 0s - loss: 0.1979 - accuracy: 0.9277 - val_loss: 0.1418 - val_accuracy: 0.9741\n",
      "Epoch 12/50\n",
      " - 0s - loss: 0.1699 - accuracy: 0.9489 - val_loss: 0.1543 - val_accuracy: 0.9655\n",
      "Epoch 13/50\n",
      " - 0s - loss: 0.1642 - accuracy: 0.9319 - val_loss: 0.1285 - val_accuracy: 0.9828\n",
      "Epoch 14/50\n",
      " - 0s - loss: 0.1523 - accuracy: 0.9489 - val_loss: 0.1278 - val_accuracy: 0.9828\n",
      "Epoch 15/50\n",
      " - 0s - loss: 0.1373 - accuracy: 0.9489 - val_loss: 0.1278 - val_accuracy: 0.9741\n",
      "Epoch 16/50\n",
      " - 0s - loss: 0.1355 - accuracy: 0.9489 - val_loss: 0.0910 - val_accuracy: 0.9828\n",
      "Epoch 17/50\n",
      " - 0s - loss: 0.1356 - accuracy: 0.9532 - val_loss: 0.1135 - val_accuracy: 0.9914\n",
      "Epoch 18/50\n",
      " - 0s - loss: 0.1433 - accuracy: 0.9532 - val_loss: 0.2605 - val_accuracy: 0.8966\n",
      "Epoch 19/50\n",
      " - 0s - loss: 0.1283 - accuracy: 0.9447 - val_loss: 0.1312 - val_accuracy: 0.9741\n",
      "Epoch 20/50\n",
      " - 0s - loss: 0.1327 - accuracy: 0.9532 - val_loss: 0.0946 - val_accuracy: 0.9914\n",
      "Epoch 21/50\n",
      " - 0s - loss: 0.1050 - accuracy: 0.9617 - val_loss: 0.0917 - val_accuracy: 0.9914\n",
      "Epoch 22/50\n",
      " - 0s - loss: 0.1008 - accuracy: 0.9660 - val_loss: 0.0794 - val_accuracy: 0.9914\n",
      "Epoch 23/50\n",
      " - 0s - loss: 0.0988 - accuracy: 0.9745 - val_loss: 0.0808 - val_accuracy: 0.9914\n",
      "Epoch 24/50\n",
      " - 0s - loss: 0.0924 - accuracy: 0.9745 - val_loss: 0.0738 - val_accuracy: 0.9828\n",
      "Epoch 25/50\n",
      " - 0s - loss: 0.0875 - accuracy: 0.9787 - val_loss: 0.0917 - val_accuracy: 0.9914\n",
      "Epoch 26/50\n",
      " - 0s - loss: 0.0848 - accuracy: 0.9787 - val_loss: 0.0628 - val_accuracy: 0.9828\n",
      "Epoch 27/50\n",
      " - 0s - loss: 0.0853 - accuracy: 0.9830 - val_loss: 0.1184 - val_accuracy: 0.9741\n",
      "Epoch 28/50\n",
      " - 0s - loss: 0.0921 - accuracy: 0.9702 - val_loss: 0.0906 - val_accuracy: 0.9914\n",
      "Epoch 29/50\n",
      " - 0s - loss: 0.0722 - accuracy: 0.9830 - val_loss: 0.0656 - val_accuracy: 0.9828\n",
      "Epoch 30/50\n",
      " - 0s - loss: 0.0713 - accuracy: 0.9787 - val_loss: 0.1074 - val_accuracy: 0.9828\n",
      "Epoch 31/50\n",
      " - 0s - loss: 0.0798 - accuracy: 0.9660 - val_loss: 0.1096 - val_accuracy: 0.9828\n",
      "Epoch 32/50\n",
      " - 0s - loss: 0.0723 - accuracy: 0.9745 - val_loss: 0.0661 - val_accuracy: 0.9914\n",
      "Epoch 33/50\n",
      " - 0s - loss: 0.0715 - accuracy: 0.9830 - val_loss: 0.0616 - val_accuracy: 0.9914\n",
      "Epoch 34/50\n",
      " - 0s - loss: 0.0680 - accuracy: 0.9872 - val_loss: 0.0710 - val_accuracy: 0.9914\n",
      "Epoch 35/50\n",
      " - 0s - loss: 0.0628 - accuracy: 0.9872 - val_loss: 0.0745 - val_accuracy: 0.9914\n",
      "Epoch 36/50\n",
      " - 0s - loss: 0.0577 - accuracy: 0.9830 - val_loss: 0.0559 - val_accuracy: 0.9914\n",
      "Epoch 37/50\n",
      " - 0s - loss: 0.0641 - accuracy: 0.9872 - val_loss: 0.0854 - val_accuracy: 0.9914\n",
      "Epoch 38/50\n",
      " - 0s - loss: 0.0539 - accuracy: 0.9830 - val_loss: 0.0538 - val_accuracy: 0.9914\n",
      "Epoch 39/50\n",
      " - 0s - loss: 0.0594 - accuracy: 0.9872 - val_loss: 0.0588 - val_accuracy: 0.9914\n",
      "Epoch 40/50\n",
      " - 0s - loss: 0.0533 - accuracy: 0.9872 - val_loss: 0.0686 - val_accuracy: 0.9914\n",
      "Epoch 41/50\n",
      " - 0s - loss: 0.0528 - accuracy: 0.9915 - val_loss: 0.0499 - val_accuracy: 0.9914\n",
      "Epoch 42/50\n",
      " - 0s - loss: 0.0623 - accuracy: 0.9830 - val_loss: 0.0720 - val_accuracy: 0.9914\n",
      "Epoch 43/50\n",
      " - 0s - loss: 0.0524 - accuracy: 0.9872 - val_loss: 0.0992 - val_accuracy: 0.9828\n",
      "Epoch 44/50\n",
      " - 0s - loss: 0.0605 - accuracy: 0.9872 - val_loss: 0.0524 - val_accuracy: 0.9914\n",
      "Epoch 45/50\n",
      " - 0s - loss: 0.0499 - accuracy: 0.9915 - val_loss: 0.0691 - val_accuracy: 0.9914\n",
      "Epoch 46/50\n",
      " - 0s - loss: 0.0466 - accuracy: 0.9915 - val_loss: 0.0536 - val_accuracy: 0.9914\n",
      "Epoch 47/50\n",
      " - 0s - loss: 0.0483 - accuracy: 0.9872 - val_loss: 0.0922 - val_accuracy: 0.9914\n",
      "Epoch 48/50\n",
      " - 0s - loss: 0.0518 - accuracy: 0.9915 - val_loss: 0.0834 - val_accuracy: 0.9914\n",
      "Epoch 49/50\n",
      " - 0s - loss: 0.0456 - accuracy: 0.9915 - val_loss: 0.0497 - val_accuracy: 0.9914\n",
      "Epoch 50/50\n",
      " - 0s - loss: 0.0448 - accuracy: 0.9872 - val_loss: 0.0994 - val_accuracy: 0.9828\n"
     ]
    },
    {
     "data": {
      "text/plain": [
       "<keras.callbacks.callbacks.History at 0x18bea356fc8>"
      ]
     },
     "execution_count": 8,
     "metadata": {},
     "output_type": "execute_result"
    }
   ],
   "source": [
    "# Fit the model\n",
    "model.fit(X, Y, validation_split=0.33, epochs=epochs, batch_size=28, verbose=2)\n",
    "model2.fit(X, Y, validation_split=0.33, epochs=50, batch_size=28, verbose=0)"
   ]
  },
  {
   "cell_type": "code",
   "execution_count": 10,
   "id": "8cd3702e",
   "metadata": {},
   "outputs": [
    {
     "name": "stdout",
     "output_type": "stream",
     "text": [
      "accuracy: 93.73%\n"
     ]
    }
   ],
   "source": [
    "#model sin decaimiento \n",
    "scores2 = model2.evaluate(X, Y, verbose=0)\n",
    "print(\"%s: %.2f%%\" % (model2.metrics_names[1], scores2[1]*100))"
   ]
  },
  {
   "cell_type": "code",
   "execution_count": 9,
   "id": "477cdbd8",
   "metadata": {},
   "outputs": [
    {
     "name": "stdout",
     "output_type": "stream",
     "text": [
      "accuracy: 98.86%\n"
     ]
    }
   ],
   "source": [
    "scores = model.evaluate(X, Y, verbose=0)\n",
    "print(\"%s: %.2f%%\" % (model.metrics_names[1], scores[1]*100))"
   ]
  },
  {
   "cell_type": "markdown",
   "id": "1b5f6b1a",
   "metadata": {},
   "source": [
    "## Drop-Based Learning Rate Schedule"
   ]
  },
  {
   "cell_type": "markdown",
   "id": "f8a09809",
   "metadata": {},
   "source": [
    "Otra programación de la tasa de aprendizaje muy popular que se utiliza con los modelos de aprendizaje profundo es la de reducir sistemáticamente la tasa de aprendizaje en momentos específicos durante el entrenamiento. \n",
    "A menudo este método se implementa reduciendo la tasa de aprendizaje a la mitad cada número fijo de épocas.Por ejemplo, podemos tener una tasa de aprendizaje inicial de 0,1 y reducirla en un factor de 0,5 cada 10 épocas. \n"
   ]
  },
  {
   "cell_type": "code",
   "execution_count": 11,
   "id": "81c30468",
   "metadata": {},
   "outputs": [],
   "source": [
    "#learning_rate_init=0.1\n",
    "learning_rate_history=[0.1]\n",
    "for epoch in range(1,101):\n",
    "    learning_rate_old=learning_rate_history[epoch-1]\n",
    "    if epoch%10==0:\n",
    "        learning_rate_history.append(learning_rate_old*0.5)\n",
    "    else: \n",
    "        learning_rate_history.append(learning_rate_old)\n"
   ]
  },
  {
   "cell_type": "code",
   "execution_count": 12,
   "id": "1e4c0722",
   "metadata": {},
   "outputs": [
    {
     "data": {
      "image/png": "[encoded data removed]",
      "text/plain": [
       "<Figure size 432x288 with 1 Axes>"
      ]
     },
     "metadata": {
      "needs_background": "light"
     },
     "output_type": "display_data"
    }
   ],
   "source": [
    "plt.plot(learning_rate_history)\n",
    "plt.ylabel('learning_rate_history')\n",
    "plt.show()"
   ]
  },
  {
   "cell_type": "markdown",
   "id": "79d6529c",
   "metadata": {},
   "source": [
    "En el código siguiente, utilizamos el mismo ejemplo anterior de una red de una sola capa oculta en el conjunto de datos Ionosphere. \n",
    "\n",
    "Se define una nueva función step_decay() que implementa la ecuación: \n",
    "\n",
    "$$\n",
    "LearningRate = InitialLearningRate \\times DropRate^{ floor  (\\frac{1+Epoch}{EpochDrop})}\n",
    "$$\n",
    "Donde:\n",
    "* InitialLearningRate es la tasa de aprendizaje al principio de la ejecución\n",
    "* EpochDrop es la frecuencia con la que se baja la tasa de aprendizaje en épocas \n",
    "* DropRate es cuánto se baja la tasa de aprendizaje cada vez que se baja."
   ]
  },
  {
   "cell_type": "code",
   "execution_count": 13,
   "id": "30a30f31",
   "metadata": {},
   "outputs": [],
   "source": [
    "from keras.callbacks import LearningRateScheduler\n",
    "# learning rate schedule\n",
    "def step_decay(epoch):\n",
    "    import math\n",
    "    initial_lrate = 0.1\n",
    "    drop = 0.5\n",
    "    epochs_drop = 10.0\n",
    "    lrate = initial_lrate * math.pow(drop, math.floor((1+epoch)/epochs_drop))\n",
    "    return lrate"
   ]
  },
  {
   "cell_type": "code",
   "execution_count": 14,
   "id": "fb91aa58",
   "metadata": {},
   "outputs": [],
   "source": [
    "model3 = Sequential()\n",
    "model3.add(Dense(34, input_dim=34, kernel_initializer= \"normal\" , activation= \"relu\" ))\n",
    "model3.add(Dense(1, kernel_initializer= \"normal\" , activation= \"sigmoid\" ))"
   ]
  },
  {
   "cell_type": "code",
   "execution_count": 15,
   "id": "078d772f",
   "metadata": {},
   "outputs": [],
   "source": [
    "# Compile model\n",
    "epochs = 50\n",
    "learning_rate = 0.1\n",
    "decay_rate = learning_rate / epochs\n",
    "momentum = 0.9\n",
    "sgd = SGD(lr=learning_rate, momentum=momentum, decay=decay_rate, nesterov=False)\n",
    "model3.compile(loss= \"binary_crossentropy\" , optimizer=sgd, metrics=[ \"accuracy\" ])\n",
    "# learning schedule callback\n",
    "lrate = LearningRateScheduler(step_decay)\n",
    "callbacks_list = [lrate]"
   ]
  },
  {
   "cell_type": "code",
   "execution_count": 16,
   "id": "c31a3b01",
   "metadata": {
    "collapsed": true
   },
   "outputs": [
    {
     "name": "stdout",
     "output_type": "stream",
     "text": [
      "Train on 235 samples, validate on 116 samples\n",
      "Epoch 1/50\n",
      " - 0s - loss: 0.6779 - accuracy: 0.6723 - val_loss: 0.6047 - val_accuracy: 0.8621\n",
      "Epoch 2/50\n",
      " - 0s - loss: 0.6132 - accuracy: 0.7191 - val_loss: 0.4900 - val_accuracy: 0.6810\n",
      "Epoch 3/50\n",
      " - 0s - loss: 0.4989 - accuracy: 0.7830 - val_loss: 0.4254 - val_accuracy: 0.7672\n",
      "Epoch 4/50\n",
      " - 0s - loss: 0.3710 - accuracy: 0.8468 - val_loss: 0.5097 - val_accuracy: 0.7759\n",
      "Epoch 5/50\n",
      " - 0s - loss: 0.2810 - accuracy: 0.8894 - val_loss: 0.1666 - val_accuracy: 0.9655\n",
      "Epoch 6/50\n",
      " - 0s - loss: 0.2266 - accuracy: 0.9064 - val_loss: 0.1600 - val_accuracy: 0.9655\n",
      "Epoch 7/50\n",
      " - 0s - loss: 0.2108 - accuracy: 0.9234 - val_loss: 0.3837 - val_accuracy: 0.8103\n",
      "Epoch 8/50\n",
      " - 0s - loss: 0.1869 - accuracy: 0.9362 - val_loss: 0.1372 - val_accuracy: 0.9828\n",
      "Epoch 9/50\n",
      " - 0s - loss: 0.1857 - accuracy: 0.9447 - val_loss: 0.0750 - val_accuracy: 0.9741\n",
      "Epoch 10/50\n",
      " - 0s - loss: 0.1664 - accuracy: 0.9532 - val_loss: 0.2045 - val_accuracy: 0.9310\n",
      "Epoch 11/50\n",
      " - 0s - loss: 0.1530 - accuracy: 0.9532 - val_loss: 0.1097 - val_accuracy: 0.9914\n",
      "Epoch 12/50\n",
      " - 0s - loss: 0.1279 - accuracy: 0.9574 - val_loss: 0.0633 - val_accuracy: 0.9741\n",
      "Epoch 13/50\n",
      " - 0s - loss: 0.1226 - accuracy: 0.9574 - val_loss: 0.2185 - val_accuracy: 0.9397\n",
      "Epoch 14/50\n",
      " - 0s - loss: 0.1106 - accuracy: 0.9660 - val_loss: 0.0651 - val_accuracy: 0.9914\n",
      "Epoch 15/50\n",
      " - 0s - loss: 0.1009 - accuracy: 0.9660 - val_loss: 0.0884 - val_accuracy: 0.9914\n",
      "Epoch 16/50\n",
      " - 0s - loss: 0.0931 - accuracy: 0.9660 - val_loss: 0.0719 - val_accuracy: 0.9914\n",
      "Epoch 17/50\n",
      " - 0s - loss: 0.0824 - accuracy: 0.9745 - val_loss: 0.0945 - val_accuracy: 0.9914\n",
      "Epoch 18/50\n",
      " - 0s - loss: 0.0770 - accuracy: 0.9830 - val_loss: 0.0586 - val_accuracy: 0.9914\n",
      "Epoch 19/50\n",
      " - 0s - loss: 0.0639 - accuracy: 0.9830 - val_loss: 0.0891 - val_accuracy: 0.9914\n",
      "Epoch 20/50\n",
      " - 0s - loss: 0.0604 - accuracy: 0.9872 - val_loss: 0.0586 - val_accuracy: 0.9914\n",
      "Epoch 21/50\n",
      " - 0s - loss: 0.0576 - accuracy: 0.9830 - val_loss: 0.0756 - val_accuracy: 0.9914\n",
      "Epoch 22/50\n",
      " - 0s - loss: 0.0522 - accuracy: 0.9830 - val_loss: 0.0555 - val_accuracy: 0.9914\n",
      "Epoch 23/50\n",
      " - 0s - loss: 0.0494 - accuracy: 0.9872 - val_loss: 0.0663 - val_accuracy: 0.9914\n",
      "Epoch 24/50\n",
      " - 0s - loss: 0.0459 - accuracy: 0.9872 - val_loss: 0.0591 - val_accuracy: 0.9914\n",
      "Epoch 25/50\n",
      " - 0s - loss: 0.0456 - accuracy: 0.9872 - val_loss: 0.0649 - val_accuracy: 0.9914\n",
      "Epoch 26/50\n",
      " - 0s - loss: 0.0427 - accuracy: 0.9872 - val_loss: 0.0514 - val_accuracy: 0.9914\n",
      "Epoch 27/50\n",
      " - 0s - loss: 0.0429 - accuracy: 0.9872 - val_loss: 0.0569 - val_accuracy: 0.9914\n",
      "Epoch 28/50\n",
      " - 0s - loss: 0.0410 - accuracy: 0.9915 - val_loss: 0.0790 - val_accuracy: 0.9914\n",
      "Epoch 29/50\n",
      " - 0s - loss: 0.0394 - accuracy: 0.9915 - val_loss: 0.0493 - val_accuracy: 0.9914\n",
      "Epoch 30/50\n",
      " - 0s - loss: 0.0444 - accuracy: 0.9915 - val_loss: 0.0757 - val_accuracy: 0.9914\n",
      "Epoch 31/50\n",
      " - 0s - loss: 0.0331 - accuracy: 0.9915 - val_loss: 0.0568 - val_accuracy: 0.9914\n",
      "Epoch 32/50\n",
      " - 0s - loss: 0.0360 - accuracy: 0.9915 - val_loss: 0.0710 - val_accuracy: 0.9914\n",
      "Epoch 33/50\n",
      " - 0s - loss: 0.0330 - accuracy: 0.9957 - val_loss: 0.0624 - val_accuracy: 0.9914\n",
      "Epoch 34/50\n",
      " - 0s - loss: 0.0435 - accuracy: 0.9915 - val_loss: 0.0601 - val_accuracy: 0.9914\n",
      "Epoch 35/50\n",
      " - 0s - loss: 0.0391 - accuracy: 0.9957 - val_loss: 0.0547 - val_accuracy: 0.9914\n",
      "Epoch 36/50\n",
      " - 0s - loss: 0.0360 - accuracy: 0.9915 - val_loss: 0.0629 - val_accuracy: 0.9914\n",
      "Epoch 37/50\n",
      " - 0s - loss: 0.0275 - accuracy: 0.9957 - val_loss: 0.0727 - val_accuracy: 0.9914\n",
      "Epoch 38/50\n",
      " - 0s - loss: 0.0283 - accuracy: 0.9957 - val_loss: 0.0613 - val_accuracy: 0.9914\n",
      "Epoch 39/50\n",
      " - 0s - loss: 0.0252 - accuracy: 0.9957 - val_loss: 0.0721 - val_accuracy: 0.9914\n",
      "Epoch 40/50\n",
      " - 0s - loss: 0.0258 - accuracy: 0.9957 - val_loss: 0.0618 - val_accuracy: 0.9914\n",
      "Epoch 41/50\n",
      " - 0s - loss: 0.0249 - accuracy: 0.9957 - val_loss: 0.0577 - val_accuracy: 0.9914\n",
      "Epoch 42/50\n",
      " - 0s - loss: 0.0260 - accuracy: 0.9957 - val_loss: 0.0628 - val_accuracy: 0.9914\n",
      "Epoch 43/50\n",
      " - 0s - loss: 0.0296 - accuracy: 0.9957 - val_loss: 0.0560 - val_accuracy: 0.9914\n",
      "Epoch 44/50\n",
      " - 0s - loss: 0.0252 - accuracy: 0.9957 - val_loss: 0.0608 - val_accuracy: 0.9914\n",
      "Epoch 45/50\n",
      " - 0s - loss: 0.0232 - accuracy: 0.9957 - val_loss: 0.0661 - val_accuracy: 0.9914\n",
      "Epoch 46/50\n",
      " - 0s - loss: 0.0223 - accuracy: 0.9957 - val_loss: 0.0720 - val_accuracy: 0.9914\n",
      "Epoch 47/50\n",
      " - 0s - loss: 0.0266 - accuracy: 0.9957 - val_loss: 0.0593 - val_accuracy: 0.9914\n",
      "Epoch 48/50\n",
      " - 0s - loss: 0.0246 - accuracy: 0.9957 - val_loss: 0.0591 - val_accuracy: 0.9914\n",
      "Epoch 49/50\n",
      " - 0s - loss: 0.0265 - accuracy: 0.9957 - val_loss: 0.0624 - val_accuracy: 0.9914\n",
      "Epoch 50/50\n",
      " - 0s - loss: 0.0261 - accuracy: 0.9957 - val_loss: 0.0592 - val_accuracy: 0.9914\n"
     ]
    },
    {
     "data": {
      "text/plain": [
       "<keras.callbacks.callbacks.History at 0x18bfc3232c8>"
      ]
     },
     "execution_count": 16,
     "metadata": {},
     "output_type": "execute_result"
    }
   ],
   "source": [
    "model3.fit(X, Y, validation_split=0.33, epochs=epochs, batch_size=28,callbacks=callbacks_list, verbose=2)"
   ]
  },
  {
   "cell_type": "code",
   "execution_count": 17,
   "id": "6c4ae66b",
   "metadata": {},
   "outputs": [
    {
     "name": "stdout",
     "output_type": "stream",
     "text": [
      "accuracy: 99.43%\n"
     ]
    }
   ],
   "source": [
    "#model sin decaimiento \n",
    "scores3 = model3.evaluate(X, Y, verbose=0)\n",
    "print(\"%s: %.2f%%\" % (model3.metrics_names[1], scores3[1]*100)) "
   ]
  },
  {
   "cell_type": "markdown",
   "id": "260e65f8",
   "metadata": {},
   "source": [
    "### Consejos "
   ]
  },
  {
   "cell_type": "markdown",
   "id": "e19037b3",
   "metadata": {},
   "source": [
    "**Aumente el ritmo de aprendizaje inicial.** Dado que la tasa de aprendizaje disminuirá, comience con un valor mayor para disminuir. Una tasa de aprendizaje mayor dará lugar a cambios mucho mayores en los pesos, al menos al principio, lo que le permitirá beneficiarse del ajuste fino más adelante.\n",
    "\n",
    "**Utilice un impulso grande.** El uso de un valor de momentum mayor ayudará al algoritmo de optimización a seguir haciendo actualizaciones en la dirección correcta cuando su tasa de aprendizaje se reduzca a valores pequeños.\n",
    "\n",
    "**Experimente con diferentes schedules.** No estará claro qué schedules de tasa de aprendizaje usar, así que pruebe algunos con diferentes opciones de configuración y vea lo que funciona mejor en su problema. También pruebe los schedules que cambian exponencialmente e incluso los programas que responden a la precisión de su modelo en los conjuntos de datos de entrenamiento o de prueba."
   ]
  },
  {
   "cell_type": "code",
   "execution_count": null,
   "id": "41771806",
   "metadata": {},
   "outputs": [],
   "source": []
  }
 ],
 "metadata": {
  "kernelspec": {
   "display_name": "book_new",
   "language": "python",
   "name": "book_new"
  },
  "language_info": {
   "codemirror_mode": {
    "name": "ipython",
    "version": 3
   },
   "file_extension": ".py",
   "mimetype": "text/x-python",
   "name": "python",
   "nbconvert_exporter": "python",
   "pygments_lexer": "ipython3",
   "version": "3.7.10"
  }
 },
 "nbformat": 4,
 "nbformat_minor": 5
}
