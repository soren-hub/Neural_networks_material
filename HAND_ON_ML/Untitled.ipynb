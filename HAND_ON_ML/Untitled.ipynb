{
 "cells": [
  {
   "cell_type": "markdown",
   "id": "9575a961",
   "metadata": {},
   "source": [
    "Docstrings\n",
    "\n",
    "In simple terms, we can say that docstrings are basically documentation embedded in the\n",
    "source code. A docstring is basically a literal string, placed somewhere in the code, with the\n",
    "intention of documenting that part of the logic.\n",
    "\n",
    "Notice the emphasis on the word documentation. This subtlety is important because it's\n",
    "meant to represent explanation, not justification. Docstrings are not comments; they are\n",
    "documentation.\n",
    "\n",
    "Having comments in the code is a bad practice for multiple reasons. First, comments\n",
    "represent our failure to express our ideas in the code. If we actually have to explain why or\n",
    "how we are doing something, then that code is probably not good enough. For starters, it\n",
    "fails to be self-explanatory. Second, it can be misleading. Worst than having to spend some\n",
    "time reading a complicated section is to read a comment on how it is supposed to work,\n",
    "and figuring out that the code actually does something different. People tend to forget to\n",
    "update comments when they change the code, so the comment next to the line that was just\n",
    "changed will be outdated, resulting in a dangerous misdirection.\n",
    "\n",
    "Sometimes, on rare occasions, we cannot avoid having comments. Maybe there is an error\n",
    "on a third-party library that we have to circumvent. In those cases, placing a small but\n",
    "descriptive comment might be acceptable.\n",
    "\n",
    "With docstrings, however, the story is different. Again, they do not represent comments,\n",
    "but the documentation of a particular component (a module, class, method, or function) in\n",
    "the code. Their use is not only accepted but also encouraged. It is a good practice to add\n",
    "docstrings whenever possible."
   ]
  },
  {
   "cell_type": "code",
   "execution_count": null,
   "id": "7068bc97",
   "metadata": {},
   "outputs": [],
   "source": []
  }
 ],
 "metadata": {
  "kernelspec": {
   "display_name": "book",
   "language": "python",
   "name": "book"
  },
  "language_info": {
   "codemirror_mode": {
    "name": "ipython",
    "version": 3
   },
   "file_extension": ".py",
   "mimetype": "text/x-python",
   "name": "python",
   "nbconvert_exporter": "python",
   "pygments_lexer": "ipython3",
   "version": "3.7.10"
  }
 },
 "nbformat": 4,
 "nbformat_minor": 5
}
