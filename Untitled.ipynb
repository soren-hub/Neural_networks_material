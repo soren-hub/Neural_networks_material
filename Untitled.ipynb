{
 "cells": [
  {
   "cell_type": "code",
   "execution_count": 10,
   "id": "d897dc33",
   "metadata": {},
   "outputs": [
    {
     "name": "stdout",
     "output_type": "stream",
     "text": [
      "Epoch 1/5\n",
      "1875/1875 [==============================] - 2s 896us/step - loss: 3.2467 - accuracy: 0.7006\n",
      "Epoch 2/5\n",
      "1875/1875 [==============================] - 2s 883us/step - loss: 0.6486 - accuracy: 0.7702\n",
      "Epoch 3/5\n",
      "1875/1875 [==============================] - 1s 795us/step - loss: 0.5770 - accuracy: 0.7967\n",
      "Epoch 4/5\n",
      "1875/1875 [==============================] - 2s 874us/step - loss: 0.5448 - accuracy: 0.8084\n",
      "Epoch 5/5\n",
      "1875/1875 [==============================] - 2s 835us/step - loss: 0.5291 - accuracy: 0.8169\n",
      "  1/313 [..............................] - ETA: 0s - loss: 0.5449 - accuracy: 0.7188WARNING:tensorflow:Callbacks method `on_test_batch_end` is slow compared to the batch time (batch time: 0.0000s vs `on_test_batch_end` time: 0.0010s). Check your callbacks.\n",
      "313/313 [==============================] - 0s 732us/step - loss: 0.5226 - accuracy: 0.8157\n"
     ]
    },
    {
     "data": {
      "text/plain": [
       "array([[6.2864793e-14, 2.2890117e-15, 2.1958085e-17, ..., 7.1866632e-02,\n",
       "        9.3063388e-09, 8.2792842e-01],\n",
       "       [5.1851297e-05, 4.9863884e-04, 9.1164482e-01, ..., 3.8943842e-25,\n",
       "        1.8142904e-09, 4.5122370e-20],\n",
       "       [1.0131801e-07, 9.9999976e-01, 5.7759726e-17, ..., 0.0000000e+00,\n",
       "        7.1451729e-17, 0.0000000e+00],\n",
       "       ...,\n",
       "       [1.1539144e-11, 3.5972528e-15, 6.9545640e-18, ..., 0.0000000e+00,\n",
       "        1.0000000e+00, 0.0000000e+00],\n",
       "       [8.3713585e-06, 9.9998987e-01, 1.5776109e-14, ..., 0.0000000e+00,\n",
       "        3.6604527e-13, 0.0000000e+00],\n",
       "       [2.6157353e-12, 4.6170272e-14, 4.3420432e-12, ..., 1.0085999e-01,\n",
       "        1.6057867e-03, 5.2018784e-02]], dtype=float32)"
      ]
     },
     "execution_count": 10,
     "metadata": {},
     "output_type": "execute_result"
    }
   ],
   "source": [
    "#Importar la biblioteca:\n",
    "import tensorflow as tf\n",
    "\n",
    "#Importar el modelo:\n",
    "from tensorflow import keras\n",
    "\n",
    "#Cargar conjunto de datos de Tensor Flow:\n",
    "fashion_mnist = keras.datasets.fashion_mnist\n",
    "(train_images, train_labels), (test_images, test_labels) = fashion_mnist.load_data()\n",
    "\n",
    "#Crear modelo secuencial:\n",
    "model = keras.Sequential()\n",
    "model.add(keras.layers.Flatten(input_shape = (28, 28)))\n",
    "model.add(keras.layers.Dense(128, activation = tf.nn.relu))\n",
    "model.add(keras.layers.Dense(10, activation = tf.nn.softmax))\n",
    "#Compilación del modelo:\n",
    "model.compile(optimizer= \"adam\", loss =\"sparse_categorical_crossentropy\", metrics = [\"accuracy\"])\n",
    "\n",
    "#Entrenamiento:\n",
    "model.fit(train_images, train_labels, epochs = 5)\n",
    "\n",
    "#Evaluación del modelo:\n",
    "test_loss, test_acc = model.evaluate( test_images, test_labels )\n",
    "\n",
    "#Predicción del modelo:\n",
    "model.predict(test_images)"
   ]
  },
  {
   "cell_type": "code",
   "execution_count": 11,
   "id": "0ad6250c",
   "metadata": {},
   "outputs": [
    {
     "name": "stdout",
     "output_type": "stream",
     "text": [
      "81.56999945640564\n"
     ]
    }
   ],
   "source": [
    "print( test_acc*100)"
   ]
  },
  {
   "cell_type": "code",
   "execution_count": 7,
   "id": "05f25e7d",
   "metadata": {},
   "outputs": [],
   "source": [
    "train_images = train_images / 255.0\n",
    "test_images = test_images / 255.0"
   ]
  },
  {
   "cell_type": "code",
   "execution_count": 8,
   "id": "96e6303c",
   "metadata": {},
   "outputs": [
    {
     "name": "stdout",
     "output_type": "stream",
     "text": [
      "Epoch 1/5\n",
      "1875/1875 [==============================] - 2s 941us/step - loss: 0.4944 - accuracy: 0.8271\n",
      "Epoch 2/5\n",
      "1875/1875 [==============================] - 2s 912us/step - loss: 0.3746 - accuracy: 0.8652\n",
      "Epoch 3/5\n",
      "1875/1875 [==============================] - 2s 821us/step - loss: 0.3362 - accuracy: 0.8764\n",
      "Epoch 4/5\n",
      "1875/1875 [==============================] - 2s 871us/step - loss: 0.3113 - accuracy: 0.8863\n",
      "Epoch 5/5\n",
      "1875/1875 [==============================] - 2s 885us/step - loss: 0.2958 - accuracy: 0.89160s - loss: 0.2955 - accuracy: \n",
      "313/313 [==============================] - 0s 655us/step - loss: 0.3402 - accuracy: 0.8770\n"
     ]
    },
    {
     "data": {
      "text/plain": [
       "array([[4.3176751e-06, 4.8910852e-07, 5.5295577e-06, ..., 1.0443632e-01,\n",
       "        6.3765328e-05, 8.2913131e-01],\n",
       "       [3.0821768e-06, 9.1293656e-10, 9.9184060e-01, ..., 1.6226908e-12,\n",
       "        3.9467736e-09, 4.9202657e-14],\n",
       "       [3.5252864e-08, 9.9999988e-01, 3.4098440e-09, ..., 1.7168568e-18,\n",
       "        1.6505485e-12, 3.0936306e-14],\n",
       "       ...,\n",
       "       [4.8091908e-05, 6.7384249e-09, 5.2964962e-05, ..., 6.3356549e-07,\n",
       "        9.9884629e-01, 6.5033352e-09],\n",
       "       [7.1468847e-08, 9.9995625e-01, 2.5364406e-07, ..., 2.8506366e-12,\n",
       "        2.0324087e-10, 1.7207508e-08],\n",
       "       [3.1911113e-04, 4.0081595e-05, 3.4971745e-04, ..., 1.2851468e-02,\n",
       "        1.6529561e-03, 5.2277680e-04]], dtype=float32)"
      ]
     },
     "execution_count": 8,
     "metadata": {},
     "output_type": "execute_result"
    }
   ],
   "source": [
    "model = keras.Sequential()\n",
    "model.add(keras.layers.Flatten(input_shape = (28, 28)))\n",
    "model.add(keras.layers.Dense(128, activation = tf.nn.relu))\n",
    "model.add(keras.layers.Dense(10, activation = tf.nn.softmax))\n",
    "#Compilación del modelo:\n",
    "model.compile(optimizer= \"adam\", loss =\"sparse_categorical_crossentropy\", metrics = [\"accuracy\"])\n",
    "\n",
    "#Entrenamiento:\n",
    "model.fit(train_images, train_labels, epochs = 5)\n",
    "\n",
    "#Evaluación del modelo:\n",
    "test_loss, test_acc = model.evaluate( test_images, test_labels )\n",
    "\n",
    "#Predicción del modelo:\n",
    "model.predict(test_images)"
   ]
  },
  {
   "cell_type": "code",
   "execution_count": 9,
   "id": "98a8d4e2",
   "metadata": {},
   "outputs": [
    {
     "data": {
      "text/plain": [
       "0.8769999742507935"
      ]
     },
     "execution_count": 9,
     "metadata": {},
     "output_type": "execute_result"
    }
   ],
   "source": [
    "test_acc "
   ]
  },
  {
   "cell_type": "code",
   "execution_count": 12,
   "id": "6d702456",
   "metadata": {},
   "outputs": [],
   "source": [
    "import numpy \n"
   ]
  },
  {
   "cell_type": "code",
   "execution_count": 16,
   "id": "b0ffd81d",
   "metadata": {},
   "outputs": [],
   "source": [
    "from sklearn.linear_model import LogisticRegression"
   ]
  },
  {
   "cell_type": "code",
   "execution_count": null,
   "id": "96cdec4f",
   "metadata": {},
   "outputs": [],
   "source": []
  }
 ],
 "metadata": {
  "kernelspec": {
   "display_name": "book",
   "language": "python",
   "name": "book"
  },
  "language_info": {
   "codemirror_mode": {
    "name": "ipython",
    "version": 3
   },
   "file_extension": ".py",
   "mimetype": "text/x-python",
   "name": "python",
   "nbconvert_exporter": "python",
   "pygments_lexer": "ipython3",
   "version": "3.7.10"
  }
 },
 "nbformat": 4,
 "nbformat_minor": 5
}
