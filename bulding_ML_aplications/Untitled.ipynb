{
 "cells": [
  {
   "cell_type": "markdown",
   "id": "0c10fe5c",
   "metadata": {},
   "source": [
    "### Estimar lo que es posible \n",
    "\n",
    "Lo más importante es que siempre debe comenzar con un objetivo de producto para luego decidir cuál es la mejor manera de resolverlo. \n",
    "\n",
    "En esta etapa, esté abierto a cualquier enfoque, ya sea que requiera ML o no. \n",
    "\n",
    "La mejor manera de hacer esto es siguiendo dos pasos sucesivos: (1) enmarcar el objetivo de su producto en un paradigma de ML y (2) evaluar la viabilidad de esa tarea de ML. Dependiendo de su evaluación, puede reajustar su encuadre hasta que estemos satisfechos:\n",
    "\n",
    "1. Enmarcar el objetivo de un producto en un paradigma de ML: \n",
    "    * Cuando creamos un producto, empezamos pensando en qué servicio queremos ofrecer a los usuarios. En este caso es el de un editor que ayuda a los usuarios a escribir mejores preguntas. El objetivo de este producto es claro: queremos que los usuarios reciban consejos prácticos y útiles sobre el contenido que escriben. Los problemas de ML, sin embargo, se enmarcan de una manera completamente diferente. Un problema de ML se refiere a aprender una función a partir de los datos.\n",
    "    \n",
    "2. Evaluación de la viabilidad de ML:\n",
    "    *  Para construir aplicaciones de ML de manera eficiente, es importante considerar múltiples marcos de ML potenciales y comenzar con los que juzgamos como los más simples. Una de las mejores formas de evaluar la dificultad de un problema de ML es observar tanto el *tipo de datos* que requiere como los *modelos existentes* que podrían aprovechar dichos datos. \n",
    "\n",
    "### Modelos.\n",
    "Hay muchos modelos de uso común en ML.\n",
    "Es útil compartir una descripción general de las diferentes categorías de modelos y cómo se pueden aplicar a diferentes problemas. \n",
    "Los algoritmos de ML se pueden clasificar en función de si requieren etiquetas. Aquí, una etiqueta se refiere a la presencia en los datos de un resultado ideal que un modelo debería producir para un ejemplo dado.\n",
    "\n",
    "Determinar qué tipo de insumos tomará su modelo y qué resultados producirá lo ayudará a reducir significativamente los enfoques potenciales. Con base en estos tipos, cualquiera de las siguientes categorías de enfoques de ML podría ser una buena opción: \n",
    "\n",
    "• Clasificación y regresión \n",
    "• Extracción de conocimiento \n",
    "• Organización del catálogo \n",
    "• Modelos generativos \n",
    "\n",
    "#### Clasificación y regresión. \n",
    "\n",
    "La regresión y la clasificación son técnicamente diferentes, pero a menudo los métodos para abordarlas tienen una superposición significativa.\n",
    "\n",
    "Una de las razones por las que la clasificación y la regresión son similares es que la mayoría de los modelos de clasificación generan una puntuación de probabilidad para que un modelo pertenezca a una categoría. El aspecto de la clasificación luego se reduce a decidir cómo atribuir un objeto a una categoría en función de dichos puntajes. En un nivel alto, un modelo de clasificación puede, por tanto, verse como una regresión sobre valores de probabilidad.\n"
   ]
  },
  {
   "cell_type": "code",
   "execution_count": null,
   "id": "89cfd020",
   "metadata": {},
   "outputs": [],
   "source": []
  }
 ],
 "metadata": {
  "kernelspec": {
   "display_name": "Python 3",
   "language": "python",
   "name": "python3"
  },
  "language_info": {
   "codemirror_mode": {
    "name": "ipython",
    "version": 3
   },
   "file_extension": ".py",
   "mimetype": "text/x-python",
   "name": "python",
   "nbconvert_exporter": "python",
   "pygments_lexer": "ipython3",
   "version": "3.7.10"
  }
 },
 "nbformat": 4,
 "nbformat_minor": 5
}
