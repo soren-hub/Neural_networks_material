{
 "cells": [
  {
   "cell_type": "code",
   "execution_count": 1,
   "metadata": {
    "id": "K6_wqe02jLye"
   },
   "outputs": [],
   "source": [
    "import numpy as np\n",
    "import matplotlib.pyplot as plt"
   ]
  },
  {
   "cell_type": "markdown",
   "metadata": {
    "id": "xpmDFLHtj08m"
   },
   "source": [
    "## Funciones de activación"
   ]
  },
  {
   "cell_type": "code",
   "execution_count": 2,
   "metadata": {
    "id": "HxjRMw2ijLyp"
   },
   "outputs": [],
   "source": [
    "def sigmoid(a, derivate = False):\n",
    "    if derivate:\n",
    "        return np.exp(-a)/(( np.exp(-a) +1)**2)\n",
    "    else:    \n",
    "        return 1 / (1 + np.exp(-a))\n",
    "\n",
    "def steep(x):    \n",
    "    return np.piecewise(x,[x<0.0,x>=0.0],[0,1])"
   ]
  },
  {
   "cell_type": "code",
   "execution_count": 15,
   "metadata": {},
   "outputs": [],
   "source": [
    "def relu(x):  \n",
    "    return np.piecewise(x,[x<0.0,x>=0.0],[0,lambda x: x])"
   ]
  },
  {
   "cell_type": "code",
   "execution_count": 17,
   "metadata": {},
   "outputs": [],
   "source": [
    "def tanh(x):\n",
    "    n=np.exp(x)-np.exp(-x)\n",
    "    d=np.exp(x)+np.exp(-x)\n",
    "    return n/d"
   ]
  },
  {
   "cell_type": "code",
   "execution_count": 3,
   "metadata": {
    "id": "Etj97bCCjLyq"
   },
   "outputs": [],
   "source": [
    "x = np.linspace(10,-10,100)"
   ]
  },
  {
   "cell_type": "code",
   "execution_count": 18,
   "metadata": {
    "id": "rG89lw9rjLyu",
    "outputId": "5dfff496-fb4a-4b5c-d3da-9ed16e38acdc"
   },
   "outputs": [
    {
     "data": {
      "text/plain": [
       "[<matplotlib.lines.Line2D at 0x1814ae98108>]"
      ]
     },
     "execution_count": 18,
     "metadata": {},
     "output_type": "execute_result"
    },
    {
     "data": {
      "image/png": "[encoded data removed]",
      "text/plain": [
       "<Figure size 432x288 with 1 Axes>"
      ]
     },
     "metadata": {
      "needs_background": "light"
     },
     "output_type": "display_data"
    }
   ],
   "source": [
    "plt.plot(x,tanh(x))"
   ]
  },
  {
   "cell_type": "code",
   "execution_count": null,
   "metadata": {
    "id": "heG4tatkjLy0",
    "outputId": "e3aa206d-ce47-4427-c9d8-ea6df5fd3877"
   },
   "outputs": [
    {
     "data": {
      "text/plain": [
       "[<matplotlib.lines.Line2D at 0x7f3a05ceb450>]"
      ]
     },
     "execution_count": 9,
     "metadata": {
      "tags": []
     },
     "output_type": "execute_result"
    },
    {
     "data": {
      "image/png": "[encoded data removed]",
      "text/plain": [
       "<Figure size 432x288 with 1 Axes>"
      ]
     },
     "metadata": {
      "needs_background": "light",
      "tags": []
     },
     "output_type": "display_data"
    }
   ],
   "source": [
    "plt.plot(x,steep(x))"
   ]
  },
  {
   "cell_type": "markdown",
   "metadata": {
    "id": "5NmxYUWykDLM"
   },
   "source": [
    "## Función de pérdida o coste"
   ]
  },
  {
   "cell_type": "code",
   "execution_count": null,
   "metadata": {
    "id": "zGms-U8njLy1"
   },
   "outputs": [],
   "source": [
    "def mse(y,y_hat,derivate=False):\n",
    "    if derivate:\n",
    "        return (y_hat - y)\n",
    "    else:            \n",
    "        return np.mean((y_hat - y)**2)\n",
    "    "
   ]
  },
  {
   "cell_type": "code",
   "execution_count": null,
   "metadata": {
    "id": "jw47TySVjLy2"
   },
   "outputs": [],
   "source": [
    "prediction = np.array([0.9,0.5,0.2,0.0])\n",
    "real =  np.array([0,0,1,1])"
   ]
  },
  {
   "cell_type": "code",
   "execution_count": null,
   "metadata": {
    "id": "RSa-ImU9jLy2",
    "outputId": "4a852a3c-c2f7-4b03-9b76-42f89ba108c5"
   },
   "outputs": [
    {
     "data": {
      "text/plain": [
       "0.675"
      ]
     },
     "execution_count": 20,
     "metadata": {
      "tags": []
     },
     "output_type": "execute_result"
    }
   ],
   "source": [
    "mse(real, prediction)"
   ]
  }
 ],
 "metadata": {
  "colab": {
   "name": "Funciones de activacion y perdida.ipynb",
   "provenance": []
  },
  "kernelspec": {
   "display_name": "Python 3",
   "language": "python",
   "name": "python3"
  },
  "language_info": {
   "codemirror_mode": {
    "name": "ipython",
    "version": 3
   },
   "file_extension": ".py",
   "mimetype": "text/x-python",
   "name": "python",
   "nbconvert_exporter": "python",
   "pygments_lexer": "ipython3",
   "version": "3.7.10"
  }
 },
 "nbformat": 4,
 "nbformat_minor": 1
}
