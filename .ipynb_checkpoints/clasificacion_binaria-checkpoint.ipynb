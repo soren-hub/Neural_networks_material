{
 "cells": [
  {
   "cell_type": "markdown",
   "metadata": {
    "id": "KT2sLmD8u7XI"
   },
   "source": [
    "## Importamos librerías"
   ]
  },
  {
   "cell_type": "code",
   "execution_count": 1,
   "metadata": {
    "id": "aYLou5Cgu7XP"
   },
   "outputs": [],
   "source": [
    "from keras.datasets import imdb\n",
    "from keras import models, layers, optimizers\n",
    "import numpy as np\n"
   ]
  },
  {
   "cell_type": "markdown",
   "metadata": {
    "id": "0UfuiozUu7XQ"
   },
   "source": [
    "## Descargamos los datos de imdb - Keras"
   ]
  },
  {
   "cell_type": "code",
   "execution_count": 2,
   "metadata": {
    "id": "LdUoLkeru7XQ"
   },
   "outputs": [
    {
     "name": "stderr",
     "output_type": "stream",
     "text": [
      "<string>:6: VisibleDeprecationWarning: Creating an ndarray from ragged nested sequences (which is a list-or-tuple of lists-or-tuples-or ndarrays with different lengths or shapes) is deprecated. If you meant to do this, you must specify 'dtype=object' when creating the ndarray\n",
      "C:\\Users\\joaqu\\anaconda3\\envs\\book\\lib\\site-packages\\tensorflow\\python\\keras\\datasets\\imdb.py:159: VisibleDeprecationWarning: Creating an ndarray from ragged nested sequences (which is a list-or-tuple of lists-or-tuples-or ndarrays with different lengths or shapes) is deprecated. If you meant to do this, you must specify 'dtype=object' when creating the ndarray\n",
      "  x_train, y_train = np.array(xs[:idx]), np.array(labels[:idx])\n",
      "C:\\Users\\joaqu\\anaconda3\\envs\\book\\lib\\site-packages\\tensorflow\\python\\keras\\datasets\\imdb.py:160: VisibleDeprecationWarning: Creating an ndarray from ragged nested sequences (which is a list-or-tuple of lists-or-tuples-or ndarrays with different lengths or shapes) is deprecated. If you meant to do this, you must specify 'dtype=object' when creating the ndarray\n",
      "  x_test, y_test = np.array(xs[idx:]), np.array(labels[idx:])\n"
     ]
    }
   ],
   "source": [
    "(train_data, train_labels), (test_data, test_labels) = imdb.load_data(num_words=10000)"
   ]
  },
  {
   "cell_type": "code",
   "execution_count": 3,
   "metadata": {
    "id": "NUTCpE7Fu7XR",
    "outputId": "dc673c49-25dd-4228-f8b2-508423effd83",
    "scrolled": true
   },
   "outputs": [
    {
     "data": {
      "text/plain": [
       "[1,\n",
       " 14,\n",
       " 22,\n",
       " 16,\n",
       " 43,\n",
       " 530,\n",
       " 973,\n",
       " 1622,\n",
       " 1385,\n",
       " 65,\n",
       " 458,\n",
       " 4468,\n",
       " 66,\n",
       " 3941,\n",
       " 4,\n",
       " 173,\n",
       " 36,\n",
       " 256,\n",
       " 5,\n",
       " 25,\n",
       " 100,\n",
       " 43,\n",
       " 838,\n",
       " 112,\n",
       " 50,\n",
       " 670,\n",
       " 2,\n",
       " 9,\n",
       " 35,\n",
       " 480,\n",
       " 284,\n",
       " 5,\n",
       " 150,\n",
       " 4,\n",
       " 172,\n",
       " 112,\n",
       " 167,\n",
       " 2,\n",
       " 336,\n",
       " 385,\n",
       " 39,\n",
       " 4,\n",
       " 172,\n",
       " 4536,\n",
       " 1111,\n",
       " 17,\n",
       " 546,\n",
       " 38,\n",
       " 13,\n",
       " 447,\n",
       " 4,\n",
       " 192,\n",
       " 50,\n",
       " 16,\n",
       " 6,\n",
       " 147,\n",
       " 2025,\n",
       " 19,\n",
       " 14,\n",
       " 22,\n",
       " 4,\n",
       " 1920,\n",
       " 4613,\n",
       " 469,\n",
       " 4,\n",
       " 22,\n",
       " 71,\n",
       " 87,\n",
       " 12,\n",
       " 16,\n",
       " 43,\n",
       " 530,\n",
       " 38,\n",
       " 76,\n",
       " 15,\n",
       " 13,\n",
       " 1247,\n",
       " 4,\n",
       " 22,\n",
       " 17,\n",
       " 515,\n",
       " 17,\n",
       " 12,\n",
       " 16,\n",
       " 626,\n",
       " 18,\n",
       " 2,\n",
       " 5,\n",
       " 62,\n",
       " 386,\n",
       " 12,\n",
       " 8,\n",
       " 316,\n",
       " 8,\n",
       " 106,\n",
       " 5,\n",
       " 4,\n",
       " 2223,\n",
       " 5244,\n",
       " 16,\n",
       " 480,\n",
       " 66,\n",
       " 3785,\n",
       " 33,\n",
       " 4,\n",
       " 130,\n",
       " 12,\n",
       " 16,\n",
       " 38,\n",
       " 619,\n",
       " 5,\n",
       " 25,\n",
       " 124,\n",
       " 51,\n",
       " 36,\n",
       " 135,\n",
       " 48,\n",
       " 25,\n",
       " 1415,\n",
       " 33,\n",
       " 6,\n",
       " 22,\n",
       " 12,\n",
       " 215,\n",
       " 28,\n",
       " 77,\n",
       " 52,\n",
       " 5,\n",
       " 14,\n",
       " 407,\n",
       " 16,\n",
       " 82,\n",
       " 2,\n",
       " 8,\n",
       " 4,\n",
       " 107,\n",
       " 117,\n",
       " 5952,\n",
       " 15,\n",
       " 256,\n",
       " 4,\n",
       " 2,\n",
       " 7,\n",
       " 3766,\n",
       " 5,\n",
       " 723,\n",
       " 36,\n",
       " 71,\n",
       " 43,\n",
       " 530,\n",
       " 476,\n",
       " 26,\n",
       " 400,\n",
       " 317,\n",
       " 46,\n",
       " 7,\n",
       " 4,\n",
       " 2,\n",
       " 1029,\n",
       " 13,\n",
       " 104,\n",
       " 88,\n",
       " 4,\n",
       " 381,\n",
       " 15,\n",
       " 297,\n",
       " 98,\n",
       " 32,\n",
       " 2071,\n",
       " 56,\n",
       " 26,\n",
       " 141,\n",
       " 6,\n",
       " 194,\n",
       " 7486,\n",
       " 18,\n",
       " 4,\n",
       " 226,\n",
       " 22,\n",
       " 21,\n",
       " 134,\n",
       " 476,\n",
       " 26,\n",
       " 480,\n",
       " 5,\n",
       " 144,\n",
       " 30,\n",
       " 5535,\n",
       " 18,\n",
       " 51,\n",
       " 36,\n",
       " 28,\n",
       " 224,\n",
       " 92,\n",
       " 25,\n",
       " 104,\n",
       " 4,\n",
       " 226,\n",
       " 65,\n",
       " 16,\n",
       " 38,\n",
       " 1334,\n",
       " 88,\n",
       " 12,\n",
       " 16,\n",
       " 283,\n",
       " 5,\n",
       " 16,\n",
       " 4472,\n",
       " 113,\n",
       " 103,\n",
       " 32,\n",
       " 15,\n",
       " 16,\n",
       " 5345,\n",
       " 19,\n",
       " 178,\n",
       " 32]"
      ]
     },
     "execution_count": 3,
     "metadata": {},
     "output_type": "execute_result"
    }
   ],
   "source": [
    "train_data[0]"
   ]
  },
  {
   "cell_type": "code",
   "execution_count": 4,
   "metadata": {
    "id": "1YdlJmW6u7XS",
    "outputId": "52d8d8f9-fbc9-4dd3-b886-c0f3d697029a"
   },
   "outputs": [
    {
     "data": {
      "text/plain": [
       "0"
      ]
     },
     "execution_count": 4,
     "metadata": {},
     "output_type": "execute_result"
    }
   ],
   "source": [
    "train_labels[1]"
   ]
  },
  {
   "cell_type": "markdown",
   "metadata": {
    "id": "gozWfZjXu7XT"
   },
   "source": [
    "### Diccionario de palabras"
   ]
  },
  {
   "cell_type": "code",
   "execution_count": 5,
   "metadata": {
    "id": "EPBw0xPyu7XT"
   },
   "outputs": [],
   "source": [
    "word_index = imdb.get_word_index()\n",
    "word_index = dict([(value,key) for (key,value) in word_index.items()])"
   ]
  },
  {
   "cell_type": "code",
   "execution_count": 6,
   "metadata": {
    "id": "hG5ic6MNu7XU",
    "outputId": "6ab5accb-e939-4967-d999-33f8a11a81c3",
    "scrolled": true
   },
   "outputs": [
    {
     "name": "stdout",
     "output_type": "stream",
     "text": [
      "None\n",
      "this\n",
      "film\n",
      "was\n",
      "just\n",
      "brilliant\n",
      "casting\n",
      "location\n",
      "scenery\n",
      "story\n",
      "direction\n",
      "everyone's\n",
      "really\n",
      "suited\n",
      "the\n",
      "part\n",
      "they\n",
      "played\n",
      "and\n",
      "you\n",
      "could\n",
      "just\n",
      "imagine\n",
      "being\n",
      "there\n",
      "robert\n",
      "None\n",
      "is\n",
      "an\n",
      "amazing\n",
      "actor\n",
      "and\n",
      "now\n",
      "the\n",
      "same\n",
      "being\n",
      "director\n",
      "None\n",
      "father\n",
      "came\n",
      "from\n",
      "the\n",
      "same\n",
      "scottish\n",
      "island\n",
      "as\n",
      "myself\n",
      "so\n",
      "i\n",
      "loved\n",
      "the\n",
      "fact\n",
      "there\n",
      "was\n",
      "a\n",
      "real\n",
      "connection\n",
      "with\n",
      "this\n",
      "film\n",
      "the\n",
      "witty\n",
      "remarks\n",
      "throughout\n",
      "the\n",
      "film\n",
      "were\n",
      "great\n",
      "it\n",
      "was\n",
      "just\n",
      "brilliant\n",
      "so\n",
      "much\n",
      "that\n",
      "i\n",
      "bought\n",
      "the\n",
      "film\n",
      "as\n",
      "soon\n",
      "as\n",
      "it\n",
      "was\n",
      "released\n",
      "for\n",
      "None\n",
      "and\n",
      "would\n",
      "recommend\n",
      "it\n",
      "to\n",
      "everyone\n",
      "to\n",
      "watch\n",
      "and\n",
      "the\n",
      "fly\n",
      "fishing\n",
      "was\n",
      "amazing\n",
      "really\n",
      "cried\n",
      "at\n",
      "the\n",
      "end\n",
      "it\n",
      "was\n",
      "so\n",
      "sad\n",
      "and\n",
      "you\n",
      "know\n",
      "what\n",
      "they\n",
      "say\n",
      "if\n",
      "you\n",
      "cry\n",
      "at\n",
      "a\n",
      "film\n",
      "it\n",
      "must\n",
      "have\n",
      "been\n",
      "good\n",
      "and\n",
      "this\n",
      "definitely\n",
      "was\n",
      "also\n",
      "None\n",
      "to\n",
      "the\n",
      "two\n",
      "little\n",
      "boy's\n",
      "that\n",
      "played\n",
      "the\n",
      "None\n",
      "of\n",
      "norman\n",
      "and\n",
      "paul\n",
      "they\n",
      "were\n",
      "just\n",
      "brilliant\n",
      "children\n",
      "are\n",
      "often\n",
      "left\n",
      "out\n",
      "of\n",
      "the\n",
      "None\n",
      "list\n",
      "i\n",
      "think\n",
      "because\n",
      "the\n",
      "stars\n",
      "that\n",
      "play\n",
      "them\n",
      "all\n",
      "grown\n",
      "up\n",
      "are\n",
      "such\n",
      "a\n",
      "big\n",
      "profile\n",
      "for\n",
      "the\n",
      "whole\n",
      "film\n",
      "but\n",
      "these\n",
      "children\n",
      "are\n",
      "amazing\n",
      "and\n",
      "should\n",
      "be\n",
      "praised\n",
      "for\n",
      "what\n",
      "they\n",
      "have\n",
      "done\n",
      "don't\n",
      "you\n",
      "think\n",
      "the\n",
      "whole\n",
      "story\n",
      "was\n",
      "so\n",
      "lovely\n",
      "because\n",
      "it\n",
      "was\n",
      "true\n",
      "and\n",
      "was\n",
      "someone's\n",
      "life\n",
      "after\n",
      "all\n",
      "that\n",
      "was\n",
      "shared\n",
      "with\n",
      "us\n",
      "all\n"
     ]
    }
   ],
   "source": [
    "for _ in train_data[0]:\n",
    "    print(word_index.get( _ - 3))"
   ]
  },
  {
   "cell_type": "markdown",
   "metadata": {
    "id": "Wp179pKAu7XU"
   },
   "source": [
    "## Función de one-hot encoding"
   ]
  },
  {
   "cell_type": "code",
   "execution_count": 7,
   "metadata": {
    "id": "c9RHPL_Zu7XU"
   },
   "outputs": [],
   "source": [
    "def vectorizar(sequences, dim=10000):\n",
    "    restults = np.zeros((len(sequences),dim))\n",
    "    for i, sequences in enumerate(sequences):\n",
    "        restults[i,sequences]=1\n",
    "    return restults    "
   ]
  },
  {
   "cell_type": "markdown",
   "metadata": {
    "id": "QkDyYZVIu7XV"
   },
   "source": [
    "## Transformamos datos"
   ]
  },
  {
   "cell_type": "code",
   "execution_count": 8,
   "metadata": {
    "id": "zRWfPd8Mu7XV"
   },
   "outputs": [],
   "source": [
    "x_train = vectorizar(train_data)\n",
    "x_test = vectorizar(test_data)"
   ]
  },
  {
   "cell_type": "code",
   "execution_count": 9,
   "metadata": {
    "id": "Y-8uysGru7XV"
   },
   "outputs": [],
   "source": [
    "y_train = np.asarray(train_labels).astype('float32')\n",
    "y_test = np.asarray(test_labels).astype('float32')"
   ]
  },
  {
   "cell_type": "markdown",
   "metadata": {
    "id": "vq1SZL1eu7XW"
   },
   "source": [
    "## Creamos el modelo"
   ]
  },
  {
   "cell_type": "code",
   "execution_count": 10,
   "metadata": {
    "id": "cvUOgggqu7XW"
   },
   "outputs": [],
   "source": [
    "model = models.Sequential()\n",
    "model.add(layers.Dense(16, activation='relu', input_shape=(10000,)))\n",
    "model.add(layers.Dense(16, activation='relu'))\n",
    "model.add(layers.Dense(1, activation='sigmoid'))"
   ]
  },
  {
   "cell_type": "code",
   "execution_count": 11,
   "metadata": {
    "id": "t-gny5Ceu7XX"
   },
   "outputs": [],
   "source": [
    "model.compile(optimizer='rmsprop',\n",
    "              loss='binary_crossentropy',\n",
    "             metrics=['acc'])"
   ]
  },
  {
   "cell_type": "code",
   "execution_count": 12,
   "metadata": {
    "id": "AXSDhaX0u7XX"
   },
   "outputs": [],
   "source": [
    "x_val = x_train[:10000]\n",
    "partial_x_train = x_train[10000:]\n",
    "\n",
    "y_val = y_train[:10000]\n",
    "partial_y_train =  y_train[10000:]"
   ]
  },
  {
   "cell_type": "markdown",
   "metadata": {
    "id": "mNq94y46u7XX"
   },
   "source": [
    "## Entrenando"
   ]
  },
  {
   "cell_type": "code",
   "execution_count": 13,
   "metadata": {
    "id": "HT_gFZyou7XX",
    "outputId": "0c69ec82-602b-4bfa-99c7-6d5121f59c7b",
    "scrolled": true
   },
   "outputs": [
    {
     "name": "stdout",
     "output_type": "stream",
     "text": [
      "Epoch 1/4\n",
      "30/30 [==============================] - 1s 23ms/step - loss: 0.5095 - acc: 0.7971 - val_loss: 0.3783 - val_acc: 0.8747\n",
      "Epoch 2/4\n",
      "30/30 [==============================] - 0s 12ms/step - loss: 0.3001 - acc: 0.9040 - val_loss: 0.3217 - val_acc: 0.8696\n",
      "Epoch 3/4\n",
      "30/30 [==============================] - 0s 13ms/step - loss: 0.2251 - acc: 0.9246 - val_loss: 0.2903 - val_acc: 0.8853\n",
      "Epoch 4/4\n",
      "30/30 [==============================] - 0s 11ms/step - loss: 0.1776 - acc: 0.9417 - val_loss: 0.2792 - val_acc: 0.8878\n"
     ]
    }
   ],
   "source": [
    "history = model.fit(partial_x_train,\n",
    "                   partial_y_train,\n",
    "                   epochs=4,\n",
    "                   batch_size=512,\n",
    "                   validation_data=(x_val,y_val))"
   ]
  },
  {
   "cell_type": "markdown",
   "metadata": {
    "id": "cOJ-XDdgu7XY"
   },
   "source": [
    "## Analizamos resultados"
   ]
  },
  {
   "cell_type": "code",
   "execution_count": 14,
   "metadata": {
    "id": "ZSba6udhu7XY",
    "outputId": "4cd3b2f4-6abf-4535-a73f-d968b82f18e8"
   },
   "outputs": [
    {
     "data": {
      "image/png": "[encoded data removed]",
      "text/plain": [
       "<Figure size 720x720 with 1 Axes>"
      ]
     },
     "metadata": {
      "needs_background": "light"
     },
     "output_type": "display_data"
    }
   ],
   "source": [
    "import matplotlib.pyplot as plt \n",
    "\n",
    "history_dict = history.history\n",
    "loss_values = history_dict['loss']\n",
    "val_loss_values = history_dict['val_loss']\n",
    "\n",
    "fig = plt.figure(figsize=(10,10))\n",
    "epoch = range(1,len(loss_values)+1)\n",
    "plt.plot(epoch,loss_values, 'o',label='training')\n",
    "plt.plot(epoch,val_loss_values, '--',label='val')\n",
    "plt.legend()\n",
    "plt.show()"
   ]
  },
  {
   "cell_type": "code",
   "execution_count": 16,
   "metadata": {
    "id": "KXuRoCmBu7XY",
    "outputId": "8d306aef-6042-4e06-8688-44906110b3c5"
   },
   "outputs": [
    {
     "name": "stdout",
     "output_type": "stream",
     "text": [
      "782/782 [==============================] - 1s 1ms/step - loss: 0.3012 - acc: 0.8794\n"
     ]
    },
    {
     "data": {
      "text/plain": [
       "87.94400095939636"
      ]
     },
     "execution_count": 16,
     "metadata": {},
     "output_type": "execute_result"
    }
   ],
   "source": [
    "model.evaluate(x_test, y_test)[1]*100"
   ]
  },
  {
   "cell_type": "markdown",
   "metadata": {
    "id": "WZa183OAu7XZ"
   },
   "source": [
    "## Predicciones"
   ]
  },
  {
   "cell_type": "code",
   "execution_count": null,
   "metadata": {
    "id": "WuMvikWZu7XZ"
   },
   "outputs": [],
   "source": [
    "predictions = model.predict(x_test)"
   ]
  },
  {
   "cell_type": "code",
   "execution_count": null,
   "metadata": {
    "id": "7OiVR1lju7XZ",
    "outputId": "274470b1-69c2-47e6-d23b-510ade4d2bfd"
   },
   "outputs": [
    {
     "data": {
      "text/plain": [
       "array([0.31682304], dtype=float32)"
      ]
     },
     "execution_count": 40,
     "metadata": {
      "tags": []
     },
     "output_type": "execute_result"
    }
   ],
   "source": [
    "predictions[1]"
   ]
  }
 ],
 "metadata": {
  "colab": {
   "name": "Clasificacion binaria.ipynb",
   "provenance": []
  },
  "kernelspec": {
   "display_name": "book",
   "language": "python",
   "name": "book"
  },
  "language_info": {
   "codemirror_mode": {
    "name": "ipython",
    "version": 3
   },
   "file_extension": ".py",
   "mimetype": "text/x-python",
   "name": "python",
   "nbconvert_exporter": "python",
   "pygments_lexer": "ipython3",
   "version": "3.7.10"
  }
 },
 "nbformat": 4,
 "nbformat_minor": 1
}
