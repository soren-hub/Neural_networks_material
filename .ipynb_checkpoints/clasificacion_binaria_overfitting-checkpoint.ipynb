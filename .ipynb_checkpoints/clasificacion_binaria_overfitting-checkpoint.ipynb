{
 "cells": [
  {
   "cell_type": "markdown",
   "metadata": {
    "id": "JJhPuV_xq56O"
   },
   "source": [
    "## Importamos librerías"
   ]
  },
  {
   "cell_type": "code",
   "execution_count": 1,
   "metadata": {
    "id": "K2s_iDC4q56W"
   },
   "outputs": [],
   "source": [
    "from keras.datasets import imdb\n",
    "from keras import models, layers, optimizers\n",
    "import numpy as np\n"
   ]
  },
  {
   "cell_type": "markdown",
   "metadata": {
    "id": "7vf9u0WGq56X"
   },
   "source": [
    "## Descargamos los datos de imdb - Keras"
   ]
  },
  {
   "cell_type": "code",
   "execution_count": 2,
   "metadata": {
    "id": "AA1pDKcJq56Y"
   },
   "outputs": [
    {
     "name": "stderr",
     "output_type": "stream",
     "text": [
      "<string>:6: VisibleDeprecationWarning: Creating an ndarray from ragged nested sequences (which is a list-or-tuple of lists-or-tuples-or ndarrays with different lengths or shapes) is deprecated. If you meant to do this, you must specify 'dtype=object' when creating the ndarray\n",
      "C:\\Users\\joaqu\\anaconda3\\envs\\book\\lib\\site-packages\\tensorflow\\python\\keras\\datasets\\imdb.py:159: VisibleDeprecationWarning: Creating an ndarray from ragged nested sequences (which is a list-or-tuple of lists-or-tuples-or ndarrays with different lengths or shapes) is deprecated. If you meant to do this, you must specify 'dtype=object' when creating the ndarray\n",
      "  x_train, y_train = np.array(xs[:idx]), np.array(labels[:idx])\n",
      "C:\\Users\\joaqu\\anaconda3\\envs\\book\\lib\\site-packages\\tensorflow\\python\\keras\\datasets\\imdb.py:160: VisibleDeprecationWarning: Creating an ndarray from ragged nested sequences (which is a list-or-tuple of lists-or-tuples-or ndarrays with different lengths or shapes) is deprecated. If you meant to do this, you must specify 'dtype=object' when creating the ndarray\n",
      "  x_test, y_test = np.array(xs[idx:]), np.array(labels[idx:])\n"
     ]
    }
   ],
   "source": [
    "(train_data, train_labels), (test_data, test_labels) = imdb.load_data(num_words=10000)"
   ]
  },
  {
   "cell_type": "markdown",
   "metadata": {
    "id": "uYYPXrDJq56Y"
   },
   "source": [
    "## Función de one-hot encoding"
   ]
  },
  {
   "cell_type": "code",
   "execution_count": 3,
   "metadata": {
    "id": "z-IRp1jNq56Y"
   },
   "outputs": [],
   "source": [
    "def vectorizar(sequences, dim=10000):\n",
    "    restults = np.zeros((len(sequences),dim))\n",
    "    for i, sequences in enumerate(sequences):\n",
    "        restults[i,sequences]=1\n",
    "    return restults "
   ]
  },
  {
   "cell_type": "markdown",
   "metadata": {
    "id": "xYvCqkTSq56Z"
   },
   "source": [
    "## Transformamos datos"
   ]
  },
  {
   "cell_type": "code",
   "execution_count": 4,
   "metadata": {
    "id": "IRPUAON_q56Z"
   },
   "outputs": [],
   "source": [
    "x_train = vectorizar(train_data)\n",
    "x_test = vectorizar(test_data)"
   ]
  },
  {
   "cell_type": "code",
   "execution_count": 5,
   "metadata": {
    "id": "Lj2Aza2sq56Z"
   },
   "outputs": [],
   "source": [
    "y_train = np.asarray(train_labels).astype('float32')\n",
    "y_test = np.asarray(test_labels).astype('float32')"
   ]
  },
  {
   "cell_type": "markdown",
   "metadata": {
    "id": "b5YqpUiEq56a"
   },
   "source": [
    "## Red neuronal original"
   ]
  },
  {
   "cell_type": "code",
   "execution_count": 6,
   "metadata": {
    "id": "UHUU6CAKq56a"
   },
   "outputs": [],
   "source": [
    "model = models.Sequential()\n",
    "model.add(layers.Dense(16, activation='relu', input_shape=(10000,)))\n",
    "model.add(layers.Dense(16, activation='relu'))\n",
    "model.add(layers.Dense(1, activation='sigmoid'))\n"
   ]
  },
  {
   "cell_type": "code",
   "execution_count": 7,
   "metadata": {
    "id": "aRRJq921q56a"
   },
   "outputs": [],
   "source": [
    "model.compile(optimizer='rmsprop',\n",
    "              loss='binary_crossentropy',\n",
    "             metrics=['acc'])"
   ]
  },
  {
   "cell_type": "code",
   "execution_count": 8,
   "metadata": {
    "id": "dHOxgALNq56b"
   },
   "outputs": [],
   "source": [
    "x_val = x_train[:10000]\n",
    "partial_x_train = x_train[10000:]\n",
    "\n",
    "y_val = y_train[:10000]\n",
    "partial_y_train =  y_train[10000:]"
   ]
  },
  {
   "cell_type": "markdown",
   "metadata": {
    "id": "qqHUAcB8q56b"
   },
   "source": [
    "## Entrenando"
   ]
  },
  {
   "cell_type": "code",
   "execution_count": 9,
   "metadata": {
    "id": "bojOz_jWq56b",
    "outputId": "ceaf3f52-cad8-4fe1-84ae-a79b3045d60d",
    "scrolled": true
   },
   "outputs": [
    {
     "name": "stdout",
     "output_type": "stream",
     "text": [
      "Epoch 1/20\n",
      "30/30 [==============================] - 3s 98ms/step - loss: 0.5187 - acc: 0.7919 - val_loss: 0.3990 - val_acc: 0.8642\n",
      "Epoch 2/20\n",
      "30/30 [==============================] - 0s 14ms/step - loss: 0.3159 - acc: 0.8999 - val_loss: 0.3157 - val_acc: 0.8820\n",
      "Epoch 3/20\n",
      "30/30 [==============================] - 0s 13ms/step - loss: 0.2296 - acc: 0.9268 - val_loss: 0.2795 - val_acc: 0.8898\n",
      "Epoch 4/20\n",
      "30/30 [==============================] - 0s 13ms/step - loss: 0.1811 - acc: 0.9423 - val_loss: 0.2758 - val_acc: 0.8877\n",
      "Epoch 5/20\n",
      "30/30 [==============================] - 0s 13ms/step - loss: 0.1462 - acc: 0.9539 - val_loss: 0.2989 - val_acc: 0.8814\n",
      "Epoch 6/20\n",
      "30/30 [==============================] - 0s 14ms/step - loss: 0.1220 - acc: 0.9637 - val_loss: 0.2895 - val_acc: 0.8841\n",
      "Epoch 7/20\n",
      "30/30 [==============================] - 0s 13ms/step - loss: 0.0996 - acc: 0.9709 - val_loss: 0.3050 - val_acc: 0.8838\n",
      "Epoch 8/20\n",
      "30/30 [==============================] - 0s 13ms/step - loss: 0.0851 - acc: 0.9749 - val_loss: 0.3245 - val_acc: 0.8804\n",
      "Epoch 9/20\n",
      "30/30 [==============================] - 0s 13ms/step - loss: 0.0679 - acc: 0.9826 - val_loss: 0.3502 - val_acc: 0.8803\n",
      "Epoch 10/20\n",
      "30/30 [==============================] - 0s 13ms/step - loss: 0.0576 - acc: 0.9857 - val_loss: 0.3686 - val_acc: 0.8783\n",
      "Epoch 11/20\n",
      "30/30 [==============================] - 0s 13ms/step - loss: 0.0448 - acc: 0.9899 - val_loss: 0.3945 - val_acc: 0.8767\n",
      "Epoch 12/20\n",
      "30/30 [==============================] - 0s 12ms/step - loss: 0.0359 - acc: 0.9928 - val_loss: 0.4702 - val_acc: 0.8682\n",
      "Epoch 13/20\n",
      "30/30 [==============================] - 0s 13ms/step - loss: 0.0292 - acc: 0.9946 - val_loss: 0.4572 - val_acc: 0.8752\n",
      "Epoch 14/20\n",
      "30/30 [==============================] - 0s 13ms/step - loss: 0.0239 - acc: 0.9955 - val_loss: 0.4879 - val_acc: 0.8707\n",
      "Epoch 15/20\n",
      "30/30 [==============================] - 0s 14ms/step - loss: 0.0181 - acc: 0.9978 - val_loss: 0.5212 - val_acc: 0.8693\n",
      "Epoch 16/20\n",
      "30/30 [==============================] - 0s 14ms/step - loss: 0.0145 - acc: 0.9985 - val_loss: 0.5534 - val_acc: 0.8688\n",
      "Epoch 17/20\n",
      "30/30 [==============================] - 0s 14ms/step - loss: 0.0136 - acc: 0.9977 - val_loss: 0.5862 - val_acc: 0.8693\n",
      "Epoch 18/20\n",
      "30/30 [==============================] - 0s 14ms/step - loss: 0.0066 - acc: 0.9997 - val_loss: 0.6272 - val_acc: 0.8675\n",
      "Epoch 19/20\n",
      "30/30 [==============================] - 0s 13ms/step - loss: 0.0092 - acc: 0.9982 - val_loss: 0.6589 - val_acc: 0.8669\n",
      "Epoch 20/20\n",
      "30/30 [==============================] - 0s 13ms/step - loss: 0.0037 - acc: 0.9999 - val_loss: 0.7199 - val_acc: 0.8597\n"
     ]
    }
   ],
   "source": [
    "history = model.fit(partial_x_train,\n",
    "                   partial_y_train,\n",
    "                   epochs=20,\n",
    "                   batch_size=512,\n",
    "                   validation_data=(x_val,y_val))"
   ]
  },
  {
   "cell_type": "markdown",
   "metadata": {
    "id": "l3Woc_cOq56d"
   },
   "source": [
    "### Comparando un modelo más pequeño"
   ]
  },
  {
   "cell_type": "code",
   "execution_count": 10,
   "metadata": {
    "id": "BvETn2HKq56d"
   },
   "outputs": [],
   "source": [
    "model2 = models.Sequential()\n",
    "model2.add(layers.Dense(4, activation='relu', input_shape=(10000,)))\n",
    "model2.add(layers.Dense(4, activation='relu'))\n",
    "model2.add(layers.Dense(1, activation='sigmoid'))"
   ]
  },
  {
   "cell_type": "code",
   "execution_count": 11,
   "metadata": {
    "id": "gOSbistFq56d"
   },
   "outputs": [],
   "source": [
    "model2.compile(optimizer='rmsprop',\n",
    "              loss='binary_crossentropy',\n",
    "             metrics=['acc'])"
   ]
  },
  {
   "cell_type": "code",
   "execution_count": 12,
   "metadata": {
    "id": "Bjz4emsfq56e",
    "outputId": "912d60b8-f30b-4e66-a4d9-c099a63f1b24",
    "scrolled": true
   },
   "outputs": [
    {
     "name": "stdout",
     "output_type": "stream",
     "text": [
      "Epoch 1/20\n",
      "30/30 [==============================] - 1s 21ms/step - loss: 0.6396 - acc: 0.6941 - val_loss: 0.5915 - val_acc: 0.7600\n",
      "Epoch 2/20\n",
      "30/30 [==============================] - 0s 12ms/step - loss: 0.5371 - acc: 0.8491 - val_loss: 0.5063 - val_acc: 0.8603\n",
      "Epoch 3/20\n",
      "30/30 [==============================] - 0s 12ms/step - loss: 0.4498 - acc: 0.8857 - val_loss: 0.4356 - val_acc: 0.8686\n",
      "Epoch 4/20\n",
      "30/30 [==============================] - 0s 12ms/step - loss: 0.3778 - acc: 0.8990 - val_loss: 0.3815 - val_acc: 0.8772\n",
      "Epoch 5/20\n",
      "30/30 [==============================] - 0s 12ms/step - loss: 0.3212 - acc: 0.9107 - val_loss: 0.3419 - val_acc: 0.8830\n",
      "Epoch 6/20\n",
      "30/30 [==============================] - 0s 12ms/step - loss: 0.2773 - acc: 0.9197 - val_loss: 0.3143 - val_acc: 0.8867\n",
      "Epoch 7/20\n",
      "30/30 [==============================] - 0s 12ms/step - loss: 0.2430 - acc: 0.9261 - val_loss: 0.2964 - val_acc: 0.8889\n",
      "Epoch 8/20\n",
      "30/30 [==============================] - 0s 13ms/step - loss: 0.2154 - acc: 0.9329 - val_loss: 0.2832 - val_acc: 0.8917\n",
      "Epoch 9/20\n",
      "30/30 [==============================] - 0s 12ms/step - loss: 0.1935 - acc: 0.9398 - val_loss: 0.2820 - val_acc: 0.8894\n",
      "Epoch 10/20\n",
      "30/30 [==============================] - 0s 13ms/step - loss: 0.1755 - acc: 0.9445 - val_loss: 0.2740 - val_acc: 0.8913\n",
      "Epoch 11/20\n",
      "30/30 [==============================] - 0s 13ms/step - loss: 0.1596 - acc: 0.9511 - val_loss: 0.2759 - val_acc: 0.8906\n",
      "Epoch 12/20\n",
      "30/30 [==============================] - 0s 12ms/step - loss: 0.1460 - acc: 0.9547 - val_loss: 0.2723 - val_acc: 0.8913\n",
      "Epoch 13/20\n",
      "30/30 [==============================] - 0s 13ms/step - loss: 0.1336 - acc: 0.9587 - val_loss: 0.2753 - val_acc: 0.8900\n",
      "Epoch 14/20\n",
      "30/30 [==============================] - 0s 12ms/step - loss: 0.1218 - acc: 0.9635 - val_loss: 0.2799 - val_acc: 0.8892\n",
      "Epoch 15/20\n",
      "30/30 [==============================] - 0s 12ms/step - loss: 0.1118 - acc: 0.9669 - val_loss: 0.2931 - val_acc: 0.8838\n",
      "Epoch 16/20\n",
      "30/30 [==============================] - 0s 13ms/step - loss: 0.1027 - acc: 0.9703 - val_loss: 0.2930 - val_acc: 0.8873\n",
      "Epoch 17/20\n",
      "30/30 [==============================] - 0s 12ms/step - loss: 0.0938 - acc: 0.9746 - val_loss: 0.2993 - val_acc: 0.8862\n",
      "Epoch 18/20\n",
      "30/30 [==============================] - 0s 13ms/step - loss: 0.0863 - acc: 0.9755 - val_loss: 0.3089 - val_acc: 0.8850\n",
      "Epoch 19/20\n",
      "30/30 [==============================] - 0s 12ms/step - loss: 0.0794 - acc: 0.9783 - val_loss: 0.3170 - val_acc: 0.8841\n",
      "Epoch 20/20\n",
      "30/30 [==============================] - 0s 11ms/step - loss: 0.0722 - acc: 0.9811 - val_loss: 0.3322 - val_acc: 0.8811\n"
     ]
    }
   ],
   "source": [
    "history2 = model2.fit(partial_x_train,\n",
    "                   partial_y_train,\n",
    "                   epochs=20,\n",
    "                   batch_size=512,\n",
    "                   validation_data=(x_val,y_val))"
   ]
  },
  {
   "cell_type": "markdown",
   "metadata": {
    "id": "uxvaByNXq56e"
   },
   "source": [
    "## Analizamos resultados"
   ]
  },
  {
   "cell_type": "code",
   "execution_count": 13,
   "metadata": {
    "id": "QLa8AuM8q56e",
    "outputId": "3846b129-6bb6-4eb5-96d3-6bd080e6f62f"
   },
   "outputs": [
    {
     "data": {
      "image/png": "[encoded data removed]",
      "text/plain": [
       "<Figure size 720x720 with 1 Axes>"
      ]
     },
     "metadata": {
      "needs_background": "light"
     },
     "output_type": "display_data"
    }
   ],
   "source": [
    "import matplotlib.pyplot as plt \n",
    "\n",
    "history_dict = history.history\n",
    "loss_values = history_dict['loss']\n",
    "val_loss_values = history_dict['val_loss']\n",
    "\n",
    "val_loss_values2 = history2.history['val_loss']\n",
    "\n",
    "\n",
    "fig = plt.figure(figsize=(10,10))\n",
    "epoch = range(1,len(loss_values)+1)\n",
    "plt.plot(epoch,val_loss_values2, 'o',label='smaller')\n",
    "plt.plot(epoch,val_loss_values, '--',label='original')\n",
    "plt.legend()\n",
    "plt.show()"
   ]
  },
  {
   "cell_type": "markdown",
   "metadata": {
    "id": "ZADmub67q56f"
   },
   "source": [
    "## Regularización"
   ]
  },
  {
   "cell_type": "code",
   "execution_count": 14,
   "metadata": {
    "id": "SQ_FwhyJq56f"
   },
   "outputs": [],
   "source": [
    "from keras import regularizers"
   ]
  },
  {
   "cell_type": "code",
   "execution_count": 15,
   "metadata": {
    "id": "WYodFlpOq56f"
   },
   "outputs": [],
   "source": [
    "model3 = models.Sequential()\n",
    "model3.add(layers.Dense(16, activation='relu', input_shape=(10000,),kernel_regularizer=regularizers.l2(0.001)))\n",
    "model3.add(layers.Dense(16, activation='relu',kernel_regularizer=regularizers.l2(0.001)))\n",
    "model3.add(layers.Dense(1, activation='sigmoid'))"
   ]
  },
  {
   "cell_type": "code",
   "execution_count": 16,
   "metadata": {
    "id": "TECkokyjq56g"
   },
   "outputs": [],
   "source": [
    "model3.compile(optimizer='rmsprop',\n",
    "              loss='binary_crossentropy',\n",
    "             metrics=['acc'])"
   ]
  },
  {
   "cell_type": "code",
   "execution_count": 17,
   "metadata": {
    "id": "S1zdguanq56g",
    "outputId": "6224b6ea-d278-4a82-fbb2-d3b2ce062b9a",
    "scrolled": true
   },
   "outputs": [
    {
     "name": "stdout",
     "output_type": "stream",
     "text": [
      "Epoch 1/20\n",
      "30/30 [==============================] - 4s 127ms/step - loss: 0.5476 - acc: 0.7873 - val_loss: 0.4462 - val_acc: 0.8438\n",
      "Epoch 2/20\n",
      "30/30 [==============================] - 1s 21ms/step - loss: 0.3478 - acc: 0.9037 - val_loss: 0.3487 - val_acc: 0.8853\n",
      "Epoch 3/20\n",
      "30/30 [==============================] - 1s 32ms/step - loss: 0.2816 - acc: 0.9221 - val_loss: 0.3317 - val_acc: 0.8876\n",
      "Epoch 4/20\n",
      "30/30 [==============================] - 0s 13ms/step - loss: 0.2464 - acc: 0.9354 - val_loss: 0.3255 - val_acc: 0.8884\n",
      "Epoch 5/20\n",
      "30/30 [==============================] - 0s 14ms/step - loss: 0.2277 - acc: 0.9408 - val_loss: 0.3456 - val_acc: 0.8830\n",
      "Epoch 6/20\n",
      "30/30 [==============================] - 0s 13ms/step - loss: 0.2074 - acc: 0.9503 - val_loss: 0.3407 - val_acc: 0.8838\n",
      "Epoch 7/20\n",
      "30/30 [==============================] - 0s 14ms/step - loss: 0.1976 - acc: 0.9523 - val_loss: 0.3469 - val_acc: 0.8803\n",
      "Epoch 8/20\n",
      "30/30 [==============================] - 0s 13ms/step - loss: 0.1866 - acc: 0.9583 - val_loss: 0.3481 - val_acc: 0.8821\n",
      "Epoch 9/20\n",
      "30/30 [==============================] - 0s 14ms/step - loss: 0.1833 - acc: 0.9588 - val_loss: 0.3597 - val_acc: 0.8790\n",
      "Epoch 10/20\n",
      "30/30 [==============================] - 0s 13ms/step - loss: 0.1713 - acc: 0.9650 - val_loss: 0.3605 - val_acc: 0.8803\n",
      "Epoch 11/20\n",
      "30/30 [==============================] - 0s 13ms/step - loss: 0.1628 - acc: 0.9689 - val_loss: 0.3987 - val_acc: 0.8681\n",
      "Epoch 12/20\n",
      "30/30 [==============================] - 0s 14ms/step - loss: 0.1589 - acc: 0.9680 - val_loss: 0.3808 - val_acc: 0.8796\n",
      "Epoch 13/20\n",
      "30/30 [==============================] - 0s 14ms/step - loss: 0.1547 - acc: 0.9703 - val_loss: 0.4526 - val_acc: 0.8638\n",
      "Epoch 14/20\n",
      "30/30 [==============================] - 0s 13ms/step - loss: 0.1520 - acc: 0.9719 - val_loss: 0.4254 - val_acc: 0.8739\n",
      "Epoch 15/20\n",
      "30/30 [==============================] - 0s 13ms/step - loss: 0.1490 - acc: 0.9728 - val_loss: 0.4359 - val_acc: 0.8695\n",
      "Epoch 16/20\n",
      "30/30 [==============================] - 0s 13ms/step - loss: 0.1376 - acc: 0.9788 - val_loss: 0.4942 - val_acc: 0.8502\n",
      "Epoch 17/20\n",
      "30/30 [==============================] - 0s 12ms/step - loss: 0.1419 - acc: 0.9757 - val_loss: 0.4375 - val_acc: 0.8681\n",
      "Epoch 18/20\n",
      "30/30 [==============================] - 0s 13ms/step - loss: 0.1327 - acc: 0.9822 - val_loss: 0.4383 - val_acc: 0.8718\n",
      "Epoch 19/20\n",
      "30/30 [==============================] - 0s 13ms/step - loss: 0.1384 - acc: 0.9762 - val_loss: 0.4385 - val_acc: 0.8713\n",
      "Epoch 20/20\n",
      "30/30 [==============================] - 0s 11ms/step - loss: 0.1260 - acc: 0.9835 - val_loss: 0.4362 - val_acc: 0.8728\n"
     ]
    }
   ],
   "source": [
    "history3 = model3.fit(partial_x_train,\n",
    "                   partial_y_train,\n",
    "                   epochs=20,\n",
    "                   batch_size=512,\n",
    "                   validation_data=(x_val,y_val))"
   ]
  },
  {
   "cell_type": "code",
   "execution_count": 18,
   "metadata": {
    "id": "b9ai0fsNq56g",
    "outputId": "1c64017b-a816-4cfa-bba9-bb8f09fd0ef9"
   },
   "outputs": [
    {
     "data": {
      "image/png": "[encoded data removed]",
      "text/plain": [
       "<Figure size 720x720 with 1 Axes>"
      ]
     },
     "metadata": {
      "needs_background": "light"
     },
     "output_type": "display_data"
    }
   ],
   "source": [
    "import matplotlib.pyplot as plt \n",
    "\n",
    "history_dict = history.history\n",
    "loss_values = history_dict['loss']\n",
    "val_loss_values = history_dict['val_loss']\n",
    "\n",
    "val_loss_values3 = history3.history['val_loss']\n",
    "\n",
    "\n",
    "fig = plt.figure(figsize=(10,10))\n",
    "epoch = range(1,len(loss_values)+1)\n",
    "plt.plot(epoch,val_loss_values3, 'o',label='regularization')\n",
    "plt.plot(epoch,val_loss_values, '--',label='original')\n",
    "plt.legend()\n",
    "plt.show()"
   ]
  },
  {
   "cell_type": "markdown",
   "metadata": {
    "id": "6FXLdBozq56h"
   },
   "source": [
    "### Dropout"
   ]
  },
  {
   "cell_type": "code",
   "execution_count": 19,
   "metadata": {
    "id": "fwdm5v0yq56h"
   },
   "outputs": [],
   "source": [
    "model4 = models.Sequential()\n",
    "model4.add(layers.Dense(16, activation='relu', input_shape=(10000,)))\n",
    "model4.add(layers.Dropout(0.5))\n",
    "model4.add(layers.Dense(16, activation='relu'))\n",
    "model4.add(layers.Dropout(0.5))\n",
    "model4.add(layers.Dense(1, activation='sigmoid'))"
   ]
  },
  {
   "cell_type": "code",
   "execution_count": 20,
   "metadata": {
    "id": "WKxmCmDIq56h"
   },
   "outputs": [],
   "source": [
    "model4.compile(optimizer='rmsprop',\n",
    "              loss='binary_crossentropy',\n",
    "             metrics=['acc'])"
   ]
  },
  {
   "cell_type": "code",
   "execution_count": 21,
   "metadata": {
    "id": "pqHkccE_q56h",
    "outputId": "01800777-7b9d-4910-e25a-9ff99262f749",
    "scrolled": true
   },
   "outputs": [
    {
     "name": "stdout",
     "output_type": "stream",
     "text": [
      "Epoch 1/20\n",
      "30/30 [==============================] - 1s 21ms/step - loss: 0.6469 - acc: 0.6105 - val_loss: 0.5694 - val_acc: 0.8356\n",
      "Epoch 2/20\n",
      "30/30 [==============================] - 0s 13ms/step - loss: 0.5501 - acc: 0.7311 - val_loss: 0.4715 - val_acc: 0.8643\n",
      "Epoch 3/20\n",
      "30/30 [==============================] - 0s 12ms/step - loss: 0.4599 - acc: 0.8055 - val_loss: 0.3769 - val_acc: 0.8735\n",
      "Epoch 4/20\n",
      "30/30 [==============================] - 0s 12ms/step - loss: 0.3987 - acc: 0.8429 - val_loss: 0.3219 - val_acc: 0.8839\n",
      "Epoch 5/20\n",
      "30/30 [==============================] - 0s 12ms/step - loss: 0.3392 - acc: 0.8736 - val_loss: 0.3001 - val_acc: 0.8830\n",
      "Epoch 6/20\n",
      "30/30 [==============================] - 0s 12ms/step - loss: 0.2988 - acc: 0.8931 - val_loss: 0.2788 - val_acc: 0.8904\n",
      "Epoch 7/20\n",
      "30/30 [==============================] - 0s 13ms/step - loss: 0.2606 - acc: 0.9136 - val_loss: 0.2716 - val_acc: 0.8913\n",
      "Epoch 8/20\n",
      "30/30 [==============================] - 0s 13ms/step - loss: 0.2347 - acc: 0.9211 - val_loss: 0.2722 - val_acc: 0.8898\n",
      "Epoch 9/20\n",
      "30/30 [==============================] - 0s 12ms/step - loss: 0.2058 - acc: 0.9334 - val_loss: 0.2899 - val_acc: 0.8904\n",
      "Epoch 10/20\n",
      "30/30 [==============================] - 0s 13ms/step - loss: 0.1854 - acc: 0.9388 - val_loss: 0.2912 - val_acc: 0.8912\n",
      "Epoch 11/20\n",
      "30/30 [==============================] - 0s 12ms/step - loss: 0.1674 - acc: 0.9457 - val_loss: 0.3160 - val_acc: 0.8887\n",
      "Epoch 12/20\n",
      "30/30 [==============================] - 0s 13ms/step - loss: 0.1479 - acc: 0.9497 - val_loss: 0.3253 - val_acc: 0.8900\n",
      "Epoch 13/20\n",
      "30/30 [==============================] - 0s 14ms/step - loss: 0.1386 - acc: 0.9553 - val_loss: 0.3477 - val_acc: 0.8898\n",
      "Epoch 14/20\n",
      "30/30 [==============================] - 0s 14ms/step - loss: 0.1293 - acc: 0.9579 - val_loss: 0.3568 - val_acc: 0.8876\n",
      "Epoch 15/20\n",
      "30/30 [==============================] - 0s 12ms/step - loss: 0.1145 - acc: 0.9623 - val_loss: 0.3904 - val_acc: 0.8879\n",
      "Epoch 16/20\n",
      "30/30 [==============================] - 0s 12ms/step - loss: 0.1048 - acc: 0.9653 - val_loss: 0.4247 - val_acc: 0.8886\n",
      "Epoch 17/20\n",
      "30/30 [==============================] - 0s 12ms/step - loss: 0.1008 - acc: 0.9666 - val_loss: 0.4511 - val_acc: 0.8859\n",
      "Epoch 18/20\n",
      "30/30 [==============================] - 0s 13ms/step - loss: 0.0935 - acc: 0.9689 - val_loss: 0.4812 - val_acc: 0.8853\n",
      "Epoch 19/20\n",
      "30/30 [==============================] - 0s 13ms/step - loss: 0.0929 - acc: 0.9691 - val_loss: 0.4955 - val_acc: 0.8825\n",
      "Epoch 20/20\n",
      "30/30 [==============================] - 0s 11ms/step - loss: 0.0871 - acc: 0.9711 - val_loss: 0.4905 - val_acc: 0.8846\n"
     ]
    }
   ],
   "source": [
    "history4 = model4.fit(partial_x_train,\n",
    "                   partial_y_train,\n",
    "                   epochs=20,\n",
    "                   batch_size=512,\n",
    "                   validation_data=(x_val,y_val))"
   ]
  },
  {
   "cell_type": "code",
   "execution_count": 22,
   "metadata": {
    "id": "51ZQvsAcq56i",
    "outputId": "1ead276e-90bc-4aaf-94a9-b9a5ae9845af"
   },
   "outputs": [
    {
     "data": {
      "image/png": "[encoded data removed]",
      "text/plain": [
       "<Figure size 720x720 with 1 Axes>"
      ]
     },
     "metadata": {
      "needs_background": "light"
     },
     "output_type": "display_data"
    }
   ],
   "source": [
    "history_dict = history.history\n",
    "loss_values = history_dict['loss']\n",
    "val_loss_values = history_dict['val_loss']\n",
    "\n",
    "val_loss_values4 = history4.history['val_loss']\n",
    "\n",
    "\n",
    "fig = plt.figure(figsize=(10,10))\n",
    "epoch = range(1,len(loss_values)+1)\n",
    "plt.plot(epoch,val_loss_values4, 'o',label='dropout')\n",
    "plt.plot(epoch,val_loss_values, '--',label='original')\n",
    "plt.legend()\n",
    "plt.show()"
   ]
  }
 ],
 "metadata": {
  "colab": {
   "name": "Clasificacion binaria - Overfitting.ipynb",
   "provenance": []
  },
  "kernelspec": {
   "display_name": "book",
   "language": "python",
   "name": "book"
  },
  "language_info": {
   "codemirror_mode": {
    "name": "ipython",
    "version": 3
   },
   "file_extension": ".py",
   "mimetype": "text/x-python",
   "name": "python",
   "nbconvert_exporter": "python",
   "pygments_lexer": "ipython3",
   "version": "3.7.10"
  }
 },
 "nbformat": 4,
 "nbformat_minor": 1
}
